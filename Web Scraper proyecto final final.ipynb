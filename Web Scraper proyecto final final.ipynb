{
 "cells": [
  {
   "cell_type": "markdown",
   "id": "c1599cad",
   "metadata": {
    "id": "c1599cad"
   },
   "source": [
    "# Proyecto Final: **Web Scraper con Python**"
   ]
  },
  {
   "cell_type": "markdown",
   "id": "a222568b",
   "metadata": {
    "id": "dc0d674f"
   },
   "source": [
    "*Proyecto hecho por:*\n",
    "---\n",
    ">-Hernández Sánchez María José   \n",
    ">-Quiñones Ramírez Marlene Casandra  \n",
    ">-Ramirez Coria Sandra Gisselle  \n",
    ">-Torres Nuñez Diego"
   ]
  },
  {
   "cell_type": "markdown",
   "id": "JmYkfMVncak9",
   "metadata": {
    "id": "JmYkfMVncak9"
   },
   "source": [
    "Algunos requerimientos:\n",
    "\n",
    "-Se deja comentada la correcta instalación de dos librerías por si aún no están instaladas en su equipo.\n",
    "\n",
    "-Se debe instalar un Webdriver en la computadora, específicamente Chromedriver y saber su dirección donde se tendrá almacenado."
   ]
  },
  {
   "cell_type": "code",
   "execution_count": null,
   "id": "TL0i7H5RdX93",
   "metadata": {
    "id": "TL0i7H5RdX93"
   },
   "outputs": [],
   "source": [
    "## Correr cada línea de código por separado y sólo correr si no están isntaladas\n",
    "# pip install pandasql\n"
   ]
  },
  {
   "cell_type": "code",
   "execution_count": null,
   "id": "KkPyZg_EeAe1",
   "metadata": {
    "id": "KkPyZg_EeAe1"
   },
   "outputs": [],
   "source": [
    "# pip install selenium"
   ]
  },
  {
   "cell_type": "markdown",
   "id": "F-Gd5df4heh9",
   "metadata": {
    "id": "F-Gd5df4heh9"
   },
   "source": [
    "Se muestran las librerías que se utilizarán a lo largo del código."
   ]
  },
  {
   "cell_type": "code",
   "execution_count": 1,
   "id": "b7686b83",
   "metadata": {
    "id": "b7686b83"
   },
   "outputs": [],
   "source": [
    "#### --- Este código se debe ejecutar para obtener las consultas y las gráficas ---\n",
    "### Cargamos las librerías que se utilizarán a lo largo del proyecto\n",
    "\n",
    "import pandas as pd\n",
    "import pandasql as ps\n",
    "import matplotlib.pyplot as plt\n",
    "import time \n",
    "import numpy as np\n",
    "import re\n",
    "from selenium import webdriver\n",
    "\n",
    "from selenium.webdriver.chrome.service import Service\n",
    "from selenium.webdriver.common.by import By\n"
   ]
  },
  {
   "cell_type": "markdown",
   "id": "d2eb5692",
   "metadata": {
    "id": "d2eb5692"
   },
   "source": [
    "## 0. Función de apoyo para convertir str a numeric"
   ]
  },
  {
   "cell_type": "markdown",
   "id": "bNHhUzrdlviX",
   "metadata": {
    "id": "bNHhUzrdlviX"
   },
   "source": [
    "Esta función ayudará a cambiar el tipo de dato de los precios: de str a numeric."
   ]
  },
  {
   "cell_type": "code",
   "execution_count": 2,
   "id": "7ff35174",
   "metadata": {
    "id": "7ff35174"
   },
   "outputs": [],
   "source": [
    "#### --- Este código se debe ejecutar para obtener las consultas y las gráficas ---\n",
    "def precios_floats(datos, archivo):\n",
    "    \n",
    "    ### Convertimos los precios a numericos        \n",
    "    datos['Precio_rebajado'] = pd.to_numeric(datos['Precio_rebajado'], errors = 'coerce')\n",
    "    datos['Precio_original'] = pd.to_numeric(datos['Precio_original'], errors = 'coerce')\n",
    "\n",
    "    datos.to_excel(archivo, index = False)\n",
    "        \n",
    "    ### Visualizamos los tipos de datos\n",
    "    # print(datos.dtypes)\n",
    "    \n",
    "    return datos\n"
   ]
  },
  {
   "cell_type": "markdown",
   "id": "5as8JYMlk__y",
   "metadata": {
    "id": "5as8JYMlk__y"
   },
   "source": [
    "## 1.-2. Funciones de sitios Web"
   ]
  },
  {
   "cell_type": "markdown",
   "id": "WEEMrhFreRTH",
   "metadata": {
    "id": "WEEMrhFreRTH"
   },
   "source": [
    "Ahora, se mostrarán las funciones del Web Scraper para cada sitio.\n",
    "\n",
    "Los sitios seleccionados son:\n",
    "    \n",
    "    1.1. H&M\n",
    "    1.2. Calvin Klein    \n",
    "    1.3. Julio\n",
    "\n",
    "Igual, se añaden otros posibles sitios con sus respectivos Web Scrapers:\n",
    "\n",
    "    1.4. Zara\n",
    "    1.5. Forever 21\n"
   ]
  },
  {
   "cell_type": "markdown",
   "id": "03129d74",
   "metadata": {
    "id": "03129d74"
   },
   "source": [
    "### 1.1. Función H&M"
   ]
  },
  {
   "cell_type": "code",
   "execution_count": 3,
   "id": "7adf56d8",
   "metadata": {
    "id": "7adf56d8"
   },
   "outputs": [],
   "source": [
    "#### --- Este código se debe ejecutar para obtener las consultas y las gráficas ---\n",
    "def Buscador_HM(path, producto, url, marca):\n",
    "    \n",
    "    ## Definimos las listas locales que se usarán en el código\n",
    "    lista_urls = list()\n",
    "    lista_nombres = list()\n",
    "    lista_precios = list()\n",
    "    lista_promos = list()\n",
    "    \n",
    "    ## Creamos el url al que se quiere acceder, sólo observando el link base de la página\n",
    "    productoc = producto.replace(\" \",\"+\")    \n",
    "    url = url+productoc\n",
    "\n",
    "    ### Accedemos a la página web deseada\n",
    "    s = Service(path)\n",
    "    driver = webdriver.Chrome(service = s)\n",
    "    driver.get(url)\n",
    "    \n",
    "    #### Accedemos a los elementos que contienen los datos que queremos\n",
    "    productos = driver.find_elements(By.CLASS_NAME, \"item-details\")\n",
    "    \n",
    "    \n",
    "    ### Obtenemos los URLS de productos    \n",
    "    for i in range(len(productos)):\n",
    "        try:\n",
    "            lista_urls.append(productos[i].find_element(By.TAG_NAME, \"a\").get_attribute(\"href\"))\n",
    "        except:\n",
    "            lista_urls.append(np.nan)\n",
    "    \n",
    "    \n",
    "    ### Obtenemos los nombres de productos\n",
    "    for i in range(len(productos)):\n",
    "        try:\n",
    "            lista_nombres.append(productos[i].find_element(By.CLASS_NAME,\"item-heading\").text)        \n",
    "        except:\n",
    "            lista_nombres.append(np.nan)\n",
    "\n",
    "    \n",
    "    ### Obtenemos los precios normales y promocionales de productos \n",
    "    for i in range(len(productos)):\n",
    "        try:\n",
    "            lista_precios.append(productos[i].find_element(By.CLASS_NAME,\"item-price\").text.split(\" \")[1].replace(\"$\",\"\").replace(\",\",\"\"))\n",
    "            lista_promos.append(productos[i].find_element(By.CLASS_NAME,\"item-price\").text.split(\" \")[0].replace(\"$\",\"\").replace(\",\",\"\"))\n",
    "        except:\n",
    "            lista_precios.append(productos[i].find_element(By.CLASS_NAME,\"item-price\").text.split(\" \")[0].replace(\"$\",\"\").replace(\",\",\"\"))\n",
    "            lista_promos.append(np.nan)        \n",
    "    \n",
    "      \n",
    "    ## Creamos el DataFrame con datos ordenados\n",
    "    df_hm = pd.DataFrame({\"Fecha\": time.strftime(\"%d/%m/%y\"), \"Tienda\": marca, \"Producto\": producto, \"Nombre\": lista_nombres, \"Precio_original\":lista_precios, \"Precio_rebajado\":lista_promos, \"URL\":lista_urls})\n",
    "    \n",
    "    ## Cargamos el DataFrame al archivo .xlsx\n",
    "    datos_webscraper = pd.read_excel(\"df_completo.xlsx\")\n",
    "    datos_webscraper = pd.concat([datos_webscraper, df_hm], axis = 0)\n",
    "    datos_webscraper.to_excel(\"df_completo.xlsx\", index = False)\n",
    "\n",
    "    ## Cerramos la página web\n",
    "    driver.quit()\n",
    "\n",
    "    ##Devolvemos los datos contenidos en la base de datos\n",
    "    return df_hm\n"
   ]
  },
  {
   "cell_type": "markdown",
   "id": "9r1Z7Lz-f4HV",
   "metadata": {
    "id": "9r1Z7Lz-f4HV"
   },
   "source": [
    "El siguiente código es para probar que la función funciona de manera correcta con los productos seleccionados, **correr si sólo se quiere probar esta función.**\n",
    "\n",
    "2. Los productos que se eligieron son:\n",
    "\n",
    "        2.1. Blusa \n",
    "        2.2. Jeans mezclilla \n",
    "        2.3. Chamarra \n",
    "        2.4. Zapato    \n",
    "        2.5. Tacón"
   ]
  },
  {
   "cell_type": "code",
   "execution_count": null,
   "id": "28c33f34",
   "metadata": {
    "id": "28c33f34"
   },
   "outputs": [],
   "source": [
    "#Apoyo consulta H&M\n",
    "\n",
    "###  Creamos un archivo .xlsx para almacenar los datos y crear así una base de datos\n",
    "### o simplemente se limpa el archivo ya existente\n",
    "aux = pd.DataFrame()\n",
    "aux.to_excel(\"df_completo.xlsx\", index = False)\n",
    "\n",
    "## Directorio donde está almacenado el Webdriver\n",
    "path = \"C:\\webdriver3\\chromedriver.exe\"\n",
    "\n",
    "## Datos básicos para las búsquedas\n",
    "marcahm = \"H&M\"\n",
    "urlhm = \"https://www2.hm.com/es_mx/search-results.html?q=\"\n",
    "\n",
    "## Llamamos a la función con su sitios y los diferentes productos\n",
    "for productos in [\"Blusa\", \"Jeans mezclilla\", \"Chamarra\", \"Zapato\", \"Tacón\"]:\n",
    "    Buscador_HM(path, productos, urlhm, marcahm)\n",
    "\n",
    "## Se guarda la información de manera adecuada en el archivo .xlsx\n",
    "df_hm = pd.read_excel(\"df_completo.xlsx\")\n",
    "\n",
    "## Hacemos uso de la función para convertir los precios de str a numeric\n",
    "precios_floats(df_hm, \"df_completo.xlsx\")\n",
    "\n",
    "## Se vuelven a almacenar estos nuevos datos en nuestra base de datos\n",
    "df_hm = pd.read_excel(\"df_completo.xlsx\")\n",
    "\n",
    "# Mandamos a consola la base de datos\n",
    "df_hm\n"
   ]
  },
  {
   "cell_type": "markdown",
   "id": "8ef86e7f",
   "metadata": {
    "id": "8ef86e7f"
   },
   "source": [
    "### 1.2. Función Calvin Klein"
   ]
  },
  {
   "cell_type": "code",
   "execution_count": 4,
   "id": "25cd6e80",
   "metadata": {
    "id": "25cd6e80"
   },
   "outputs": [],
   "source": [
    "#### --- Este código se debe ejecutar para obtener las consultas y las gráficas ---\n",
    "def Buscador_CK(path, producto, url, marca):\n",
    "\n",
    "    ## Definimos las listas locales que se usarán en el código\n",
    "    lista_urls = list()\n",
    "    lista_nombres = list()\n",
    "    lista_precios = list()\n",
    "    lista_promos = list()\n",
    "    \n",
    "    ## Creamos el url al que se quiere acceder, sólo observando el link base de la página\n",
    "    productoc = producto.replace(\" \",\"%20\")\n",
    "    url = url+productoc\n",
    "    \n",
    "    ### Accedemos a la página web deseada\n",
    "    s = Service(path)\n",
    "    driver = webdriver.Chrome(service = s)\n",
    "    driver.get(url)    \n",
    "    \n",
    "    #### Accedemos a los elementos que contienen los datos que queremos\n",
    "    productos = driver.find_elements(By.CLASS_NAME,\"product-item\")\n",
    "    \n",
    "    \n",
    "    ### Obtenemos los URLS de productos\n",
    "    for i in range(len(productos)):\n",
    "        try:\n",
    "            lista_urls.append(productos[i].find_element(By.TAG_NAME,\"a\").get_attribute(\"href\"))\n",
    "        except:\n",
    "            lista_urls.append(np.nan)\n",
    "    \n",
    "    \n",
    "    ### Obtenemos los nombres de productos\n",
    "    for i in range(len(productos)):\n",
    "        try:\n",
    "            lista_nombres.append(productos[i].find_element(By.CLASS_NAME,\"product-item__name\").text)\n",
    "        except:\n",
    "            lista_nombres.append(np.nan)\n",
    "    \n",
    "    \n",
    "    ### Obtenemos los precios normales y promocionales de productos \n",
    "    for i in range(len(productos)):\n",
    "        try:\n",
    "            lista_precios.append(productos[i].find_element(By.CLASS_NAME,\"product-item__price\").text.split(\" \")[0].replace(\"$\",\"\").replace(\",\",\"\"))\n",
    "        except:\n",
    "            lista_precios.append(np.nan)    \n",
    "        try:\n",
    "            lista_promos.append(productos[i].find_element(By.CLASS_NAME,\"product-item__price\").text.split(\" \")[1].replace(\"$\",\"\").replace(\",\",\"\"))\n",
    "        except:\n",
    "            lista_promos.append(np.nan)    \n",
    "    \n",
    "    ## Creamos el DataFrame con datos ordenados\n",
    "    df_ck = pd.DataFrame({\"Fecha\": time.strftime(\"%d/%m/%y\"), \"Tienda\": marca, \"Producto\": producto, \"Nombre\": lista_nombres, \"Precio_original\":lista_precios, \"Precio_rebajado\":lista_promos, \"URL\":lista_urls})\n",
    "    \n",
    "    ## Cargamos el DataFrame al archivo .xlsx\n",
    "    datos_webscraper = pd.read_excel(\"df_completo.xlsx\")\n",
    "    datos_webscraper = pd.concat([datos_webscraper, df_ck], axis = 0)\n",
    "    datos_webscraper.to_excel(\"df_completo.xlsx\", index = False)\n",
    "\n",
    "    ## Cerramos la página web\n",
    "    driver.quit()\n",
    "    \n",
    "    ##Devolvemos los datos contenidos en la base de datos\n",
    "    return df_ck\n"
   ]
  },
  {
   "cell_type": "markdown",
   "id": "FmeF1-MEraB_",
   "metadata": {
    "id": "FmeF1-MEraB_"
   },
   "source": [
    "El siguiente código es para probar que la función funciona de manera correcta con los productos seleccionados, **correr si sólo se quiere probar esta función.**\n",
    "\n",
    "2. Los productos que se eligieron son:\n",
    "\n",
    "        2.1. Blusa \n",
    "        2.2. Jeans mezclilla \n",
    "        2.3. Chamarra \n",
    "        2.4. Zapato    \n",
    "        2.5. Tacón"
   ]
  },
  {
   "cell_type": "code",
   "execution_count": null,
   "id": "22331fc6",
   "metadata": {
    "id": "22331fc6"
   },
   "outputs": [],
   "source": [
    "#Apoyo consulta Calvin Klein\n",
    "\n",
    "###  Creamos un archivo .xlsx para almacenar los datos y crear así una base de datos\n",
    "### o simplemente se limpa el archivo ya existente\n",
    "aux = pd.DataFrame()\n",
    "aux.to_excel(\"df_completo.xlsx\", index = False)\n",
    "\n",
    "## Directorio donde está almacenado el Webdriver\n",
    "path = \"C:\\webdriver3\\chromedriver.exe\"\n",
    "\n",
    "## Datos básicos para las búsquedas\n",
    "marcack = \"Calvin Klein\"\n",
    "urlck = \"https://www.calvinklein.mx/\"\n",
    "\n",
    "## Llamamos a la función con su sitios y los diferentes productos\n",
    "for productos in [\"Blusa\", \"Jeans mezclilla\", \"Chamarra\", \"Zapato\", \"Tacón\"]:\n",
    "    Buscador_CK(path, productos, urlck, marcack)\n",
    "\n",
    "## Se guarda la información de manera adecuada en el archivo .xlsx\n",
    "df_ck = pd.read_excel(\"df_completo.xlsx\")\n",
    "\n",
    "## Hacemos uso de la función para convertir los precios de str a numeric\n",
    "precios_floats(df_ck, \"df_completo.xlsx\")\n",
    "\n",
    "## Se vuelven a almacenar estos nuevos datos en nuestra base de datos\n",
    "df_ck = pd.read_excel(\"df_completo.xlsx\")\n",
    "\n",
    "# Mandamos a consola la base de datos\n",
    "df_ck\n"
   ]
  },
  {
   "cell_type": "markdown",
   "id": "0fcec4e5",
   "metadata": {
    "id": "0fcec4e5"
   },
   "source": [
    "### 1.3. Función Julio"
   ]
  },
  {
   "cell_type": "code",
   "execution_count": 5,
   "id": "b638edae",
   "metadata": {
    "id": "b638edae"
   },
   "outputs": [],
   "source": [
    "#### --- Este código se debe ejecutar para obtener las consultas y las gráficas ---\n",
    "def Buscador_Julio(path, producto, url, marca):\n",
    "    \n",
    "    ## Definimos las listas locales que se usarán en el código\n",
    "    lista_urls = list()\n",
    "    lista_nombres = list()\n",
    "    lista_precios = list()\n",
    "    lista_promos = list()\n",
    "    \n",
    "    ## Creamos el url al que se quiere acceder, sólo observando el link base de la página\n",
    "    productoc = producto.replace(\" \",\"+\")\n",
    "    url = url+productoc\n",
    "\n",
    "    ### Accedemos a la página web deseada\n",
    "    s = Service(path)\n",
    "    driver = webdriver.Chrome(service = s)\n",
    "    driver.get(url)\n",
    "    \n",
    "    #### Accedemos a los elementos que contienen los datos que queremos\n",
    "    productos = driver.find_elements(By.CLASS_NAME, \"product-item-info\")\n",
    "    \n",
    "    ### Obtenemos los URLS de productos    \n",
    "    for i in range(len(productos)-1):\n",
    "        try:\n",
    "            lista_urls.append(productos[i].find_element(By.TAG_NAME, \"a\").get_attribute(\"href\"))\n",
    "        except:\n",
    "            lista_urls.append(np.nan)\n",
    "\n",
    "\n",
    "    ### Obtenemos los nombres de productos\n",
    "    for i in range(len(productos)-1):\n",
    "        try:\n",
    "            lista_nombres.append(productos[i].text.split(\"\\n\")[0])\n",
    "        except:\n",
    "            lista_nombres.append(np.nan)\n",
    "    \n",
    "    \n",
    "    ### Obtenemos los precios normales y promocionales de productos \n",
    "    for i in range(len(productos)-1):\n",
    "        try:                \n",
    "            lista_precios.append(productos[i].text.split(\"\\n\")[2].split(\" \")[0].replace(\"$\", \"\").replace(\",\", \"\"))\n",
    "            lista_promos.append(productos[i].text.split(\"\\n\")[2].split(\" \")[1].replace(\"$\", \"\").replace(\",\", \"\"))\n",
    "        except:\n",
    "            lista_precios.append(productos[i].text.split(\"\\n\")[1].replace(\"$\", \"\").replace(\",\", \"\"))\n",
    "            lista_promos.append(np.nan)\n",
    "\n",
    "    \n",
    "    ## Creamos el DataFrame con datos ordenados\n",
    "    df_julio = pd.DataFrame({\"Fecha\": time.strftime(\"%d/%m/%y\"), \"Tienda\": marca, \"Producto\": producto, \"Nombre\": lista_nombres, \"Precio_original\":lista_precios, \"Precio_rebajado\":lista_promos, \"URL\":lista_urls})\n",
    "    \n",
    "    ## Cargamos el DataFrame al archivo .xlsx\n",
    "    datos_webscraper = pd.read_excel(\"df_completo.xlsx\")\n",
    "    datos_webscraper = pd.concat([datos_webscraper, df_julio], axis = 0)\n",
    "    datos_webscraper.to_excel(\"df_completo.xlsx\", index = False)\n",
    "\n",
    "    ## Cerramos la página web\n",
    "    driver.quit()\n",
    "\n",
    "    ##Devolvemos los datos contenidos en la base de datos\n",
    "    return df_julio\n"
   ]
  },
  {
   "cell_type": "markdown",
   "id": "_unX5x0br8YL",
   "metadata": {
    "id": "_unX5x0br8YL"
   },
   "source": [
    "El siguiente código es para probar que la función funciona de manera correcta con los productos seleccionados, **correr si sólo se quiere probar esta función.**\n",
    "\n",
    "2. Los productos que se eligieron son:\n",
    "\n",
    "        2.1. Blusa \n",
    "        2.2. Jeans mezclilla \n",
    "        2.3. Chamarra \n",
    "        2.4. Zapato    \n",
    "        2.5. Tacón"
   ]
  },
  {
   "cell_type": "code",
   "execution_count": null,
   "id": "17edf034",
   "metadata": {
    "id": "17edf034"
   },
   "outputs": [],
   "source": [
    "#Apoyo consulta Julio\n",
    "\n",
    "###  Creamos un archivo .xlsx para almacenar los datos y crear así una base de datos\n",
    "### o simplemente se limpa el archivo ya existente\n",
    "aux = pd.DataFrame()\n",
    "aux.to_excel(\"df_completo.xlsx\", index = False)\n",
    "\n",
    "## Directorio donde está almacenado el Webdriver\n",
    "path = \"C:\\webdriver3\\chromedriver.exe\"\n",
    "\n",
    "## Datos básicos para las búsquedas\n",
    "marcaj = \"Julio\"\n",
    "urlj = \"https://julio.com/catalogsearch/result/?q=\"\n",
    "\n",
    "## Llamamos a la función con su sitios y los diferentes productos\n",
    "for productos in [\"Blusa\", \"Jeans mezclilla\", \"Chamarra\", \"Zapato\", \"Tacón\"]:\n",
    "    Buscador_Julio(path, productos, urlj, marcaj)\n",
    "\n",
    "## Se guarda la información de manera adecuada en el archivo .xlsx\n",
    "df_julio = pd.read_excel(\"df_completo.xlsx\")\n",
    "\n",
    "## Hacemos uso de la función para convertir los precios de str a numeric\n",
    "precios_floats(df_julio, \"df_completo.xlsx\")\n",
    "\n",
    "## Se vuelven a almacenar estos nuevos datos en nuestra base de datos\n",
    "df_julio = pd.read_excel(\"df_completo.xlsx\")\n",
    "\n",
    "# Mandamos a consola la base de datos\n",
    "df_julio\n"
   ]
  },
  {
   "cell_type": "markdown",
   "id": "8e748560",
   "metadata": {
    "id": "8e748560"
   },
   "source": [
    "### 1.4. Función Zara"
   ]
  },
  {
   "cell_type": "code",
   "execution_count": null,
   "id": "3ff5d2b8",
   "metadata": {
    "id": "3ff5d2b8"
   },
   "outputs": [],
   "source": [
    "#### --- Este código se debe ejecutar para obtener las consultas y las gráficas ---\n",
    "def Buscador_Zara(path, producto, marca):\n",
    "    \n",
    "    ## Definimos las listas locales que se usarán en el código\n",
    "    lista_urls = list()\n",
    "    lista_nombres = list()\n",
    "    lista_precios = list()\n",
    "    lista_promos = list()\n",
    "    \n",
    "    ## Creamos el url al que se quiere acceder, sólo observando el link base de la página\n",
    "    productoc = producto.replace(\" \",\"%20\")\n",
    "    url = \"https://www.zara.com/mx/es/search?searchTerm=\"+productoc+\"&section=WOMAN\"    \n",
    "    \n",
    "    ### Accedemos a la página web deseada\n",
    "    s = Service(path)\n",
    "    driver = webdriver.Chrome(service = s)\n",
    "    driver.get(url)\n",
    "    \n",
    "    #### Accedemos a los elementos que contienen los datos que queremos    \n",
    "    productos = driver.find_elements(By.CLASS_NAME, \"product-grid-product-info__product-header\")\n",
    "    \n",
    "    \n",
    "    ### Obtenemos los URLS de productos\n",
    "    for i in range(len(productos)):\n",
    "        try:\n",
    "            lista_urls.append(productos[i].find_element(By.TAG_NAME, \"a\").get_attribute(\"href\"))\n",
    "        except:\n",
    "            lista_urls.append(np.nan)\n",
    "    \n",
    "    \n",
    "    ### Obtenemos los nombres de productos\n",
    "    for i in range(len(productos)):\n",
    "        try:\n",
    "            lista_nombres.append(productos[i].text.split(\"\\n\")[0])\n",
    "        except:\n",
    "            lista_nombres.append(np.nan)\n",
    "    \n",
    "    \n",
    "    ### Obtenemos los precios normales y promocionales de productos \n",
    "    for i in range(len(productos)):\n",
    "        try:\n",
    "            lista_precios.append(productos[i].text.split(\"\\n\")[1].split(\" \")[0].replace(\".\",\"\").replace(\",\",\".\"))\n",
    "            lista_promos.append(productos[i].text.split(\"\\n\")[2].split(\" \")[0].replace(\".\",\"\").replace(\",\",\".\"))\n",
    "        except:\n",
    "            lista_promos.append(np.nan)    \n",
    "    \n",
    "    \n",
    "    ## Creamos el DataFrame con datos ordenados\n",
    "    df_zara = pd.DataFrame({\"Fecha\": time.strftime(\"%d/%m/%y\"), \"Tienda\": marca, \"Producto\": producto, \"Nombre\": lista_nombres, \"Precio_original\":lista_precios, \"Precio_rebajado\":lista_promos, \"URL\":lista_urls})\n",
    "    \n",
    "    ## Cargamos el DataFrame al archivo .xlsx\n",
    "    datos_webscraper = pd.read_excel(\"df_completo.xlsx\")\n",
    "    datos_webscraper = pd.concat([datos_webscraper, df_zara], axis = 0)\n",
    "    datos_webscraper.to_excel(\"df_completo.xlsx\", index = False)\n",
    "\n",
    "    ## Cerramos la página web\n",
    "    driver.quit()\n",
    "\n",
    "    ##Devolvemos los datos contenidos en la base de datos\n",
    "    return df_zara\n"
   ]
  },
  {
   "cell_type": "markdown",
   "id": "N_8S-JBNtl2C",
   "metadata": {
    "id": "N_8S-JBNtl2C"
   },
   "source": [
    "El siguiente código es para probar que la función funciona de manera correcta con los productos seleccionados, **correr si sólo se quiere probar esta función.**\n",
    "\n",
    "2. Los productos que se eligieron son:\n",
    "\n",
    "        2.1. Blusa \n",
    "        2.2. Jeans mezclilla \n",
    "        2.3. Chamarra \n",
    "        2.4. Zapato    \n",
    "        2.5. Tacón"
   ]
  },
  {
   "cell_type": "code",
   "execution_count": null,
   "id": "d08d95c3",
   "metadata": {
    "id": "d08d95c3"
   },
   "outputs": [],
   "source": [
    "#Apoyo consulta Zara\n",
    "###  Creamos un archivo .xlsx para almacenar los datos y crear así una base de datos\n",
    "### o simplemente se limpa el archivo ya existente\n",
    "aux = pd.DataFrame()\n",
    "aux.to_excel(\"df_completo.xlsx\", index = False)\n",
    "\n",
    "## Directorio donde está almacenado el Webdriver\n",
    "path = \"C:\\webdriver3\\chromedriver.exe\"\n",
    "\n",
    "## Datos básicos para las búsquedas\n",
    "marcaz = \"Zara\"\n",
    "\n",
    "## Llamamos a la función con su sitios y los diferentes productos\n",
    "for productos in [\"Blusa\", \"Jeans mezclilla\", \"Chamarra\", \"Zapato\", \"Tacón\"]:\n",
    "    Buscador_Zara(path, productos, marcaz)\n",
    "\n",
    "## Se guarda la información de manera adecuada en el archivo .xlsx\n",
    "df_zara = pd.read_excel(\"df_completo.xlsx\")\n",
    "\n",
    "## Hacemos uso de la función para convertir los precios de str a numeric\n",
    "precios_floats(df_zara, \"df_completo.xlsx\")\n",
    "\n",
    "## Se vuelven a almacenar estos nuevos datos en nuestra base de datos\n",
    "df_zara = pd.read_excel(\"df_completo.xlsx\")\n",
    "\n",
    "# Mandamos a consola la base de datos\n",
    "df_zara\n",
    "\n",
    "#print(df_zara.dtypes)\n"
   ]
  },
  {
   "cell_type": "markdown",
   "id": "bea5e9a8",
   "metadata": {
    "id": "bea5e9a8"
   },
   "source": [
    "### 1.5. Función Forever 21"
   ]
  },
  {
   "cell_type": "code",
   "execution_count": null,
   "id": "8a83abec",
   "metadata": {
    "id": "8a83abec"
   },
   "outputs": [],
   "source": [
    "#### --- Este código se debe ejecutar para obtener las consultas y las gráficas ---\n",
    "def Buscador_F21(path, producto, url, marca):\n",
    "    \n",
    "    ## Definimos las listas locales que se usarán en el código\n",
    "    lista_urls = list()\n",
    "    lista_nombres = list()\n",
    "    lista_precios = list()\n",
    "    lista_promos = list()\n",
    "    \n",
    "    ## Creamos el url al que se quiere acceder, sólo observando el link base de la página\n",
    "    productoc = producto.replace(\" \",\"+\")    \n",
    "    url = url+productoc\n",
    "\n",
    "    ### Accedemos a la página web deseada\n",
    "    s = Service(path)\n",
    "    driver = webdriver.Chrome(service = s)\n",
    "    driver.get(url)\n",
    "    \n",
    "    #### Accedemos a los elementos que contienen los datos que queremos\n",
    "    productos = driver.find_elements(By.CLASS_NAME, \"c-card-product\")\n",
    "    \n",
    "    \n",
    "    ### Obtenemos los URLS de productos    \n",
    "    for i in range(len(productos)):\n",
    "        try:\n",
    "            lista_urls.append(productos[i].find_element(By.TAG_NAME, \"a\").get_attribute(\"href\"))\n",
    "        except:\n",
    "            lista_urls.append(np.nan)\n",
    "\n",
    "\n",
    "    ### Obtenemos los nombres de productos\n",
    "    for i in range(len(productos)):\n",
    "        try:\n",
    "            lista_nombres.append(productos[i].text.split(\"\\n\")[2].split(\" |\")[0])\n",
    "        except:\n",
    "            lista_nombres.append(productos[i].text.split(\"\\n\")[1].split(\" |\")[0])\n",
    "    \n",
    "        \n",
    "    ### Obtenemos los precios normales y promocionales de productos \n",
    "    for i in range(len(productos)):\n",
    "        lista_precios.append(productos[i].text.split(\"\\n\")[0].replace(\"$ \", \"\").replace(\",\", \"\"))\n",
    "        if(len(productos[i].text.split(\"\\n\")) == 3):        \n",
    "            lista_promos.append(productos[i].text.split(\"\\n\")[1].replace(\"$ \", \"\").replace(\",\", \"\"))\n",
    "        else:        \n",
    "            lista_promos.append(np.nan)\n",
    "\n",
    "    \n",
    "    ## Creamos el DataFrame con datos ordenados\n",
    "    df_f21 = pd.DataFrame({\"Fecha\": time.strftime(\"%d/%m/%y\"), \"Tienda\": marca, \"Producto\": producto, \"Nombre\": lista_nombres, \"Precio_original\":lista_precios, \"Precio_rebajado\":lista_promos, \"URL\":lista_urls})\n",
    "    \n",
    "    ## Cargamos el DataFrame al archivo .xlsx\n",
    "    datos_webscraper = pd.read_excel(\"df_completo.xlsx\")\n",
    "    datos_webscraper = pd.concat([datos_webscraper, df_f21], axis = 0)\n",
    "    datos_webscraper.to_excel(\"df_completo.xlsx\", index = False)\n",
    "\n",
    "    ## Cerramos la página web\n",
    "    driver.quit()\n",
    "\n",
    "    ##Devolvemos los datos contenidos en la base de datos\n",
    "    return df_f21\n"
   ]
  },
  {
   "cell_type": "markdown",
   "id": "hGKHJH0wuTET",
   "metadata": {
    "id": "hGKHJH0wuTET"
   },
   "source": [
    "El siguiente código es para probar que la función funciona de manera correcta con los productos seleccionados, **correr si sólo se quiere probar esta función.**\n",
    "\n",
    "2. Los productos que se eligieron son:\n",
    "\n",
    "        2.1. Blusa \n",
    "        2.2. Jeans mezclilla \n",
    "        2.3. Chamarra \n",
    "        2.4. Zapato    \n",
    "        2.5. Tacón"
   ]
  },
  {
   "cell_type": "code",
   "execution_count": null,
   "id": "5a194479",
   "metadata": {
    "id": "5a194479"
   },
   "outputs": [],
   "source": [
    "#Apoyo consulta Forever 21\n",
    "\n",
    "###  Creamos un archivo .xlsx para almacenar los datos y crear así una base de datos\n",
    "### o simplemente se limpa el archivo ya existente\n",
    "aux = pd.DataFrame()\n",
    "aux.to_excel(\"df_completo.xlsx\", index = False)\n",
    "\n",
    "## Directorio donde está almacenado el Webdriver\n",
    "path = \"C:\\webdriver3\\chromedriver.exe\"\n",
    "\n",
    "## Datos básicos para las búsquedas\n",
    "marcaf21 = \"Forever 21\"\n",
    "urlf21 = \"https://forever21.com.mx/search?q=\"\n",
    "\n",
    "## Llamamos a la función con su sitios y los diferentes productos\n",
    "for productos in [\"Blusa\", \"Jeans mezclilla\", \"Chamarra\", \"Zapato\", \"Tacón\"]:\n",
    "    Buscador_F21(path, productos, urlf21, marcaf21)\n",
    "\n",
    "## Se guarda la información de manera adecuada en el archivo .xlsx\n",
    "df_f21 = pd.read_excel(\"df_completo.xlsx\")\n",
    "\n",
    "## Hacemos uso de la función para convertir los precios de str a numeric\n",
    "precios_floats(df_f21, \"df_completo.xlsx\")\n",
    "\n",
    "## Se vuelven a almacenar estos nuevos datos en nuestra base de datos\n",
    "df_f21 = pd.read_excel(\"df_completo.xlsx\")\n",
    "\n",
    "# Mandamos a consola la base de datos\n",
    "df_f21\n"
   ]
  },
  {
   "cell_type": "markdown",
   "id": "5ce1e428",
   "metadata": {
    "id": "5ce1e428"
   },
   "source": [
    "## 3. Extracción de datos"
   ]
  },
  {
   "cell_type": "markdown",
   "id": "YDoZihWfunwE",
   "metadata": {
    "id": "YDoZihWfunwE"
   },
   "source": [
    "La siguiente función tiene como objetivo crear una base de datos en formato .xlsx para almacenar los datos de todos los sitios web a los que se quieren acceder. Es decir, es el main del Web Scraper, el cual ya hace uso de todas las funciones en conjunto para todos los productos seleccionados."
   ]
  },
  {
   "cell_type": "code",
   "execution_count": 6,
   "id": "e970374e",
   "metadata": {
    "id": "e970374e",
    "scrolled": false
   },
   "outputs": [
    {
     "data": {
      "text/html": [
       "<div>\n",
       "<style scoped>\n",
       "    .dataframe tbody tr th:only-of-type {\n",
       "        vertical-align: middle;\n",
       "    }\n",
       "\n",
       "    .dataframe tbody tr th {\n",
       "        vertical-align: top;\n",
       "    }\n",
       "\n",
       "    .dataframe thead th {\n",
       "        text-align: right;\n",
       "    }\n",
       "</style>\n",
       "<table border=\"1\" class=\"dataframe\">\n",
       "  <thead>\n",
       "    <tr style=\"text-align: right;\">\n",
       "      <th></th>\n",
       "      <th>Fecha</th>\n",
       "      <th>Tienda</th>\n",
       "      <th>Producto</th>\n",
       "      <th>Nombre</th>\n",
       "      <th>Precio_original</th>\n",
       "      <th>Precio_rebajado</th>\n",
       "      <th>URL</th>\n",
       "    </tr>\n",
       "  </thead>\n",
       "  <tbody>\n",
       "    <tr>\n",
       "      <th>0</th>\n",
       "      <td>27/01/22</td>\n",
       "      <td>H&amp;M</td>\n",
       "      <td>Blusa</td>\n",
       "      <td>Blusa con escote en V</td>\n",
       "      <td>329.0</td>\n",
       "      <td>NaN</td>\n",
       "      <td>https://www2.hm.com/es_mx/productpage.09397030...</td>\n",
       "    </tr>\n",
       "    <tr>\n",
       "      <th>1</th>\n",
       "      <td>27/01/22</td>\n",
       "      <td>H&amp;M</td>\n",
       "      <td>Blusa</td>\n",
       "      <td>Blusa con escote en V</td>\n",
       "      <td>329.0</td>\n",
       "      <td>NaN</td>\n",
       "      <td>https://www2.hm.com/es_mx/productpage.09397030...</td>\n",
       "    </tr>\n",
       "    <tr>\n",
       "      <th>2</th>\n",
       "      <td>27/01/22</td>\n",
       "      <td>H&amp;M</td>\n",
       "      <td>Blusa</td>\n",
       "      <td>Blusa con escote en V</td>\n",
       "      <td>329.0</td>\n",
       "      <td>NaN</td>\n",
       "      <td>https://www2.hm.com/es_mx/productpage.09397030...</td>\n",
       "    </tr>\n",
       "    <tr>\n",
       "      <th>3</th>\n",
       "      <td>27/01/22</td>\n",
       "      <td>H&amp;M</td>\n",
       "      <td>Blusa</td>\n",
       "      <td>Blusa con escote en V</td>\n",
       "      <td>329.0</td>\n",
       "      <td>NaN</td>\n",
       "      <td>https://www2.hm.com/es_mx/productpage.09397030...</td>\n",
       "    </tr>\n",
       "    <tr>\n",
       "      <th>4</th>\n",
       "      <td>27/01/22</td>\n",
       "      <td>H&amp;M</td>\n",
       "      <td>Blusa</td>\n",
       "      <td>Blusa con escote en V</td>\n",
       "      <td>329.0</td>\n",
       "      <td>NaN</td>\n",
       "      <td>https://www2.hm.com/es_mx/productpage.09397030...</td>\n",
       "    </tr>\n",
       "    <tr>\n",
       "      <th>...</th>\n",
       "      <td>...</td>\n",
       "      <td>...</td>\n",
       "      <td>...</td>\n",
       "      <td>...</td>\n",
       "      <td>...</td>\n",
       "      <td>...</td>\n",
       "      <td>...</td>\n",
       "    </tr>\n",
       "    <tr>\n",
       "      <th>450</th>\n",
       "      <td>27/01/22</td>\n",
       "      <td>Julio</td>\n",
       "      <td>Tacón</td>\n",
       "      <td>Mule Nudo Animal Print Piel</td>\n",
       "      <td>1599.0</td>\n",
       "      <td>799.5</td>\n",
       "      <td>https://julio.com/mule-nudo-animal-print-piel</td>\n",
       "    </tr>\n",
       "    <tr>\n",
       "      <th>451</th>\n",
       "      <td>27/01/22</td>\n",
       "      <td>Julio</td>\n",
       "      <td>Tacón</td>\n",
       "      <td>Zapato Slipper Piel</td>\n",
       "      <td>1599.0</td>\n",
       "      <td>799.5</td>\n",
       "      <td>https://julio.com/zapato-slipper-piel</td>\n",
       "    </tr>\n",
       "    <tr>\n",
       "      <th>452</th>\n",
       "      <td>27/01/22</td>\n",
       "      <td>Julio</td>\n",
       "      <td>Tacón</td>\n",
       "      <td>Botín Peep Toe Destalonado</td>\n",
       "      <td>1899.0</td>\n",
       "      <td>949.5</td>\n",
       "      <td>https://julio.com/botin-peep-toe-destalonado-z...</td>\n",
       "    </tr>\n",
       "    <tr>\n",
       "      <th>453</th>\n",
       "      <td>27/01/22</td>\n",
       "      <td>Julio</td>\n",
       "      <td>Tacón</td>\n",
       "      <td>Botín Destalonado Cocodrilo</td>\n",
       "      <td>1899.0</td>\n",
       "      <td>1139.4</td>\n",
       "      <td>https://julio.com/mule-con-tacon-destalonado</td>\n",
       "    </tr>\n",
       "    <tr>\n",
       "      <th>454</th>\n",
       "      <td>27/01/22</td>\n",
       "      <td>Julio</td>\n",
       "      <td>Tacón</td>\n",
       "      <td>Botines Estilo Cowboy Cafes</td>\n",
       "      <td>2199.0</td>\n",
       "      <td>1099.5</td>\n",
       "      <td>https://julio.com/botines-estilo-cowboy-cafes-...</td>\n",
       "    </tr>\n",
       "  </tbody>\n",
       "</table>\n",
       "<p>455 rows × 7 columns</p>\n",
       "</div>"
      ],
      "text/plain": [
       "        Fecha Tienda Producto                       Nombre  Precio_original  \\\n",
       "0    27/01/22    H&M    Blusa        Blusa con escote en V            329.0   \n",
       "1    27/01/22    H&M    Blusa        Blusa con escote en V            329.0   \n",
       "2    27/01/22    H&M    Blusa        Blusa con escote en V            329.0   \n",
       "3    27/01/22    H&M    Blusa        Blusa con escote en V            329.0   \n",
       "4    27/01/22    H&M    Blusa        Blusa con escote en V            329.0   \n",
       "..        ...    ...      ...                          ...              ...   \n",
       "450  27/01/22  Julio    Tacón  Mule Nudo Animal Print Piel           1599.0   \n",
       "451  27/01/22  Julio    Tacón          Zapato Slipper Piel           1599.0   \n",
       "452  27/01/22  Julio    Tacón   Botín Peep Toe Destalonado           1899.0   \n",
       "453  27/01/22  Julio    Tacón  Botín Destalonado Cocodrilo           1899.0   \n",
       "454  27/01/22  Julio    Tacón  Botines Estilo Cowboy Cafes           2199.0   \n",
       "\n",
       "     Precio_rebajado                                                URL  \n",
       "0                NaN  https://www2.hm.com/es_mx/productpage.09397030...  \n",
       "1                NaN  https://www2.hm.com/es_mx/productpage.09397030...  \n",
       "2                NaN  https://www2.hm.com/es_mx/productpage.09397030...  \n",
       "3                NaN  https://www2.hm.com/es_mx/productpage.09397030...  \n",
       "4                NaN  https://www2.hm.com/es_mx/productpage.09397030...  \n",
       "..               ...                                                ...  \n",
       "450            799.5      https://julio.com/mule-nudo-animal-print-piel  \n",
       "451            799.5              https://julio.com/zapato-slipper-piel  \n",
       "452            949.5  https://julio.com/botin-peep-toe-destalonado-z...  \n",
       "453           1139.4       https://julio.com/mule-con-tacon-destalonado  \n",
       "454           1099.5  https://julio.com/botines-estilo-cowboy-cafes-...  \n",
       "\n",
       "[455 rows x 7 columns]"
      ]
     },
     "execution_count": 6,
     "metadata": {},
     "output_type": "execute_result"
    }
   ],
   "source": [
    "#### --- Este código se debe ejecutar para obtener las consultas y las gráficas ---\n",
    "\"\"\"\n",
    "   Se crea el sig código para realizar la extracción de datos de los sitios seleccionados\n",
    "  y para almacenarlos en un archivo .xlsx\n",
    "\"\"\"\n",
    "\n",
    "### Creamos un archivo .xlsx para almacenar los datos y crear así una base de datos\n",
    "###o simplemente se limpa el archivo ya existente\n",
    "aux = pd.DataFrame()\n",
    "aux.to_excel(\"df_completo.xlsx\", index = False)\n",
    "\n",
    "\n",
    "#Directorio donde está almacenado el Webdriver\n",
    "path = \"C:\\webdriver3\\chromedriver.exe\"\n",
    "\n",
    "##Datos básicos para las búsquedas\n",
    "marcahm = \"H&M\"\n",
    "urlhm = \"https://www2.hm.com/es_mx/search-results.html?q=\"\n",
    "\n",
    "marcack = \"Calvin Klein\"\n",
    "urlck = \"https://www.calvinklein.mx/\"\n",
    "\n",
    "marcaj = \"Julio\"\n",
    "urlj = \"https://julio.com/catalogsearch/result/?q=\"\n",
    "\n",
    "marcaz = \"Zara\"\n",
    "\n",
    "marcaf21 = \"Forever 21\"\n",
    "urlf21 = \"https://forever21.com.mx/search?q=\"\n",
    "\n",
    "\n",
    "##Llamamos a cada función con sus respectivos sitios y productos\n",
    "for productos in [\"Blusa\", \"Jeans mezclilla\", \"Chamarra\", \"Zapato\", \"Tacón\"]:\n",
    "    Buscador_HM(path, productos, urlhm, marcahm)\n",
    "    Buscador_CK(path, productos, urlck, marcack)\n",
    "    Buscador_Julio(path, productos, urlj, marcaj)\n",
    "    #Buscador_Zara(path, productos, marcaz)    \n",
    "    #Buscador_F21(path, productos, urlf21, marcaf21)    \n",
    "\n",
    "##Se guarda la información de manera adecuada en el archivo .xlsx\n",
    "df = pd.read_excel(\"df_completo.xlsx\")\n",
    "\n",
    "##Hacemos uso de la función para convertir los precios de str a numeric\n",
    "precios_floats(df, \"df_completo.xlsx\")\n",
    "\n",
    "##Se vuelven a almacenar estos nuevos datos en nuestra base de datos\n",
    "df = pd.read_excel(\"df_completo.xlsx\")\n",
    "\n",
    "#Mandamos a pantalla la base de datos\n",
    "df\n"
   ]
  },
  {
   "cell_type": "markdown",
   "id": "57c044a2",
   "metadata": {
    "id": "5ce1e428"
   },
   "source": [
    "## 4. Consultas"
   ]
  },
  {
   "cell_type": "markdown",
   "id": "WlOd46580gDl",
   "metadata": {
    "id": "WlOd46580gDl"
   },
   "source": [
    "4.1. Cantidad de productos por tienda."
   ]
  },
  {
   "cell_type": "code",
   "execution_count": 7,
   "id": "01a0a2b6",
   "metadata": {
    "id": "01a0a2b6"
   },
   "outputs": [
    {
     "data": {
      "text/html": [
       "<div>\n",
       "<style scoped>\n",
       "    .dataframe tbody tr th:only-of-type {\n",
       "        vertical-align: middle;\n",
       "    }\n",
       "\n",
       "    .dataframe tbody tr th {\n",
       "        vertical-align: top;\n",
       "    }\n",
       "\n",
       "    .dataframe thead th {\n",
       "        text-align: right;\n",
       "    }\n",
       "</style>\n",
       "<table border=\"1\" class=\"dataframe\">\n",
       "  <thead>\n",
       "    <tr style=\"text-align: right;\">\n",
       "      <th></th>\n",
       "      <th>Cantidad</th>\n",
       "      <th>Producto</th>\n",
       "      <th>Tienda</th>\n",
       "    </tr>\n",
       "  </thead>\n",
       "  <tbody>\n",
       "    <tr>\n",
       "      <th>0</th>\n",
       "      <td>3</td>\n",
       "      <td>Blusa</td>\n",
       "      <td>Calvin Klein</td>\n",
       "    </tr>\n",
       "    <tr>\n",
       "      <th>1</th>\n",
       "      <td>36</td>\n",
       "      <td>Blusa</td>\n",
       "      <td>H&amp;M</td>\n",
       "    </tr>\n",
       "    <tr>\n",
       "      <th>2</th>\n",
       "      <td>149</td>\n",
       "      <td>Blusa</td>\n",
       "      <td>Julio</td>\n",
       "    </tr>\n",
       "    <tr>\n",
       "      <th>3</th>\n",
       "      <td>12</td>\n",
       "      <td>Chamarra</td>\n",
       "      <td>Calvin Klein</td>\n",
       "    </tr>\n",
       "    <tr>\n",
       "      <th>4</th>\n",
       "      <td>36</td>\n",
       "      <td>Chamarra</td>\n",
       "      <td>H&amp;M</td>\n",
       "    </tr>\n",
       "    <tr>\n",
       "      <th>5</th>\n",
       "      <td>17</td>\n",
       "      <td>Chamarra</td>\n",
       "      <td>Julio</td>\n",
       "    </tr>\n",
       "    <tr>\n",
       "      <th>6</th>\n",
       "      <td>5</td>\n",
       "      <td>Jeans mezclilla</td>\n",
       "      <td>Calvin Klein</td>\n",
       "    </tr>\n",
       "    <tr>\n",
       "      <th>7</th>\n",
       "      <td>36</td>\n",
       "      <td>Jeans mezclilla</td>\n",
       "      <td>H&amp;M</td>\n",
       "    </tr>\n",
       "    <tr>\n",
       "      <th>8</th>\n",
       "      <td>32</td>\n",
       "      <td>Jeans mezclilla</td>\n",
       "      <td>Julio</td>\n",
       "    </tr>\n",
       "    <tr>\n",
       "      <th>9</th>\n",
       "      <td>3</td>\n",
       "      <td>Tacón</td>\n",
       "      <td>Calvin Klein</td>\n",
       "    </tr>\n",
       "    <tr>\n",
       "      <th>10</th>\n",
       "      <td>36</td>\n",
       "      <td>Tacón</td>\n",
       "      <td>H&amp;M</td>\n",
       "    </tr>\n",
       "    <tr>\n",
       "      <th>11</th>\n",
       "      <td>28</td>\n",
       "      <td>Tacón</td>\n",
       "      <td>Julio</td>\n",
       "    </tr>\n",
       "    <tr>\n",
       "      <th>12</th>\n",
       "      <td>4</td>\n",
       "      <td>Zapato</td>\n",
       "      <td>Calvin Klein</td>\n",
       "    </tr>\n",
       "    <tr>\n",
       "      <th>13</th>\n",
       "      <td>36</td>\n",
       "      <td>Zapato</td>\n",
       "      <td>H&amp;M</td>\n",
       "    </tr>\n",
       "    <tr>\n",
       "      <th>14</th>\n",
       "      <td>22</td>\n",
       "      <td>Zapato</td>\n",
       "      <td>Julio</td>\n",
       "    </tr>\n",
       "  </tbody>\n",
       "</table>\n",
       "</div>"
      ],
      "text/plain": [
       "    Cantidad         Producto        Tienda\n",
       "0          3            Blusa  Calvin Klein\n",
       "1         36            Blusa           H&M\n",
       "2        149            Blusa         Julio\n",
       "3         12         Chamarra  Calvin Klein\n",
       "4         36         Chamarra           H&M\n",
       "5         17         Chamarra         Julio\n",
       "6          5  Jeans mezclilla  Calvin Klein\n",
       "7         36  Jeans mezclilla           H&M\n",
       "8         32  Jeans mezclilla         Julio\n",
       "9          3            Tacón  Calvin Klein\n",
       "10        36            Tacón           H&M\n",
       "11        28            Tacón         Julio\n",
       "12         4           Zapato  Calvin Klein\n",
       "13        36           Zapato           H&M\n",
       "14        22           Zapato         Julio"
      ]
     },
     "execution_count": 7,
     "metadata": {},
     "output_type": "execute_result"
    }
   ],
   "source": [
    "#### --- Este código se debe ejecutar para obtener las consultas y las gráficas ---\n",
    "ps.sqldf(\"select count(*) as Cantidad, Producto, Tienda \\\n",
    "          from df \\\n",
    "          group by Producto, Tienda\")"
   ]
  },
  {
   "cell_type": "markdown",
   "id": "lc3klS7M0sPl",
   "metadata": {
    "id": "lc3klS7M0sPl"
   },
   "source": [
    "4.2. Promedio de precio original por producto y por tienda."
   ]
  },
  {
   "cell_type": "code",
   "execution_count": 8,
   "id": "fUQkuB5n0sPl",
   "metadata": {
    "id": "fUQkuB5n0sPl"
   },
   "outputs": [
    {
     "data": {
      "text/html": [
       "<div>\n",
       "<style scoped>\n",
       "    .dataframe tbody tr th:only-of-type {\n",
       "        vertical-align: middle;\n",
       "    }\n",
       "\n",
       "    .dataframe tbody tr th {\n",
       "        vertical-align: top;\n",
       "    }\n",
       "\n",
       "    .dataframe thead th {\n",
       "        text-align: right;\n",
       "    }\n",
       "</style>\n",
       "<table border=\"1\" class=\"dataframe\">\n",
       "  <thead>\n",
       "    <tr style=\"text-align: right;\">\n",
       "      <th></th>\n",
       "      <th>Producto</th>\n",
       "      <th>Tienda</th>\n",
       "      <th>Promedio precio original producto</th>\n",
       "    </tr>\n",
       "  </thead>\n",
       "  <tbody>\n",
       "    <tr>\n",
       "      <th>0</th>\n",
       "      <td>Blusa</td>\n",
       "      <td>Calvin Klein</td>\n",
       "      <td>1665.67</td>\n",
       "    </tr>\n",
       "    <tr>\n",
       "      <th>1</th>\n",
       "      <td>Blusa</td>\n",
       "      <td>H&amp;M</td>\n",
       "      <td>385.39</td>\n",
       "    </tr>\n",
       "    <tr>\n",
       "      <th>2</th>\n",
       "      <td>Blusa</td>\n",
       "      <td>Julio</td>\n",
       "      <td>1144.38</td>\n",
       "    </tr>\n",
       "    <tr>\n",
       "      <th>3</th>\n",
       "      <td>Chamarra</td>\n",
       "      <td>Calvin Klein</td>\n",
       "      <td>4440.67</td>\n",
       "    </tr>\n",
       "    <tr>\n",
       "      <th>4</th>\n",
       "      <td>Chamarra</td>\n",
       "      <td>H&amp;M</td>\n",
       "      <td>619.28</td>\n",
       "    </tr>\n",
       "    <tr>\n",
       "      <th>5</th>\n",
       "      <td>Chamarra</td>\n",
       "      <td>Julio</td>\n",
       "      <td>2116.65</td>\n",
       "    </tr>\n",
       "    <tr>\n",
       "      <th>6</th>\n",
       "      <td>Jeans mezclilla</td>\n",
       "      <td>Calvin Klein</td>\n",
       "      <td>1611.40</td>\n",
       "    </tr>\n",
       "    <tr>\n",
       "      <th>7</th>\n",
       "      <td>Jeans mezclilla</td>\n",
       "      <td>H&amp;M</td>\n",
       "      <td>510.39</td>\n",
       "    </tr>\n",
       "    <tr>\n",
       "      <th>8</th>\n",
       "      <td>Jeans mezclilla</td>\n",
       "      <td>Julio</td>\n",
       "      <td>1083.38</td>\n",
       "    </tr>\n",
       "    <tr>\n",
       "      <th>9</th>\n",
       "      <td>Tacón</td>\n",
       "      <td>Calvin Klein</td>\n",
       "      <td>3632.33</td>\n",
       "    </tr>\n",
       "    <tr>\n",
       "      <th>10</th>\n",
       "      <td>Tacón</td>\n",
       "      <td>H&amp;M</td>\n",
       "      <td>849.00</td>\n",
       "    </tr>\n",
       "    <tr>\n",
       "      <th>11</th>\n",
       "      <td>Tacón</td>\n",
       "      <td>Julio</td>\n",
       "      <td>1684.71</td>\n",
       "    </tr>\n",
       "    <tr>\n",
       "      <th>12</th>\n",
       "      <td>Zapato</td>\n",
       "      <td>Calvin Klein</td>\n",
       "      <td>3209.25</td>\n",
       "    </tr>\n",
       "    <tr>\n",
       "      <th>13</th>\n",
       "      <td>Zapato</td>\n",
       "      <td>H&amp;M</td>\n",
       "      <td>810.11</td>\n",
       "    </tr>\n",
       "    <tr>\n",
       "      <th>14</th>\n",
       "      <td>Zapato</td>\n",
       "      <td>Julio</td>\n",
       "      <td>1612.64</td>\n",
       "    </tr>\n",
       "  </tbody>\n",
       "</table>\n",
       "</div>"
      ],
      "text/plain": [
       "           Producto        Tienda  Promedio precio original producto\n",
       "0             Blusa  Calvin Klein                            1665.67\n",
       "1             Blusa           H&M                             385.39\n",
       "2             Blusa         Julio                            1144.38\n",
       "3          Chamarra  Calvin Klein                            4440.67\n",
       "4          Chamarra           H&M                             619.28\n",
       "5          Chamarra         Julio                            2116.65\n",
       "6   Jeans mezclilla  Calvin Klein                            1611.40\n",
       "7   Jeans mezclilla           H&M                             510.39\n",
       "8   Jeans mezclilla         Julio                            1083.38\n",
       "9             Tacón  Calvin Klein                            3632.33\n",
       "10            Tacón           H&M                             849.00\n",
       "11            Tacón         Julio                            1684.71\n",
       "12           Zapato  Calvin Klein                            3209.25\n",
       "13           Zapato           H&M                             810.11\n",
       "14           Zapato         Julio                            1612.64"
      ]
     },
     "execution_count": 8,
     "metadata": {},
     "output_type": "execute_result"
    }
   ],
   "source": [
    "#### --- Este código se debe ejecutar para obtener las consultas y las gráficas ---\n",
    "ps.sqldf(\"select Producto, Tienda, round(avg(Precio_original), 2) as 'Promedio precio original producto' \\\n",
    "          from df \\\n",
    "          group by Producto, Tienda\")"
   ]
  },
  {
   "cell_type": "markdown",
   "id": "kgGeg7ea0syF",
   "metadata": {
    "id": "kgGeg7ea0syF"
   },
   "source": [
    "4.3. Promedio de precio de rebaja por producto y por tienda."
   ]
  },
  {
   "cell_type": "code",
   "execution_count": 9,
   "id": "lKx9DN3-0syG",
   "metadata": {
    "id": "lKx9DN3-0syG"
   },
   "outputs": [
    {
     "data": {
      "text/html": [
       "<div>\n",
       "<style scoped>\n",
       "    .dataframe tbody tr th:only-of-type {\n",
       "        vertical-align: middle;\n",
       "    }\n",
       "\n",
       "    .dataframe tbody tr th {\n",
       "        vertical-align: top;\n",
       "    }\n",
       "\n",
       "    .dataframe thead th {\n",
       "        text-align: right;\n",
       "    }\n",
       "</style>\n",
       "<table border=\"1\" class=\"dataframe\">\n",
       "  <thead>\n",
       "    <tr style=\"text-align: right;\">\n",
       "      <th></th>\n",
       "      <th>Producto</th>\n",
       "      <th>Tienda</th>\n",
       "      <th>Promedio precio rebajado producto</th>\n",
       "    </tr>\n",
       "  </thead>\n",
       "  <tbody>\n",
       "    <tr>\n",
       "      <th>0</th>\n",
       "      <td>Blusa</td>\n",
       "      <td>Calvin Klein</td>\n",
       "      <td>566.33</td>\n",
       "    </tr>\n",
       "    <tr>\n",
       "      <th>1</th>\n",
       "      <td>Blusa</td>\n",
       "      <td>H&amp;M</td>\n",
       "      <td>204.00</td>\n",
       "    </tr>\n",
       "    <tr>\n",
       "      <th>2</th>\n",
       "      <td>Blusa</td>\n",
       "      <td>Julio</td>\n",
       "      <td>625.95</td>\n",
       "    </tr>\n",
       "    <tr>\n",
       "      <th>3</th>\n",
       "      <td>Chamarra</td>\n",
       "      <td>Calvin Klein</td>\n",
       "      <td>2367.75</td>\n",
       "    </tr>\n",
       "    <tr>\n",
       "      <th>4</th>\n",
       "      <td>Chamarra</td>\n",
       "      <td>H&amp;M</td>\n",
       "      <td>307.33</td>\n",
       "    </tr>\n",
       "    <tr>\n",
       "      <th>5</th>\n",
       "      <td>Chamarra</td>\n",
       "      <td>Julio</td>\n",
       "      <td>1247.42</td>\n",
       "    </tr>\n",
       "    <tr>\n",
       "      <th>6</th>\n",
       "      <td>Jeans mezclilla</td>\n",
       "      <td>Calvin Klein</td>\n",
       "      <td>614.12</td>\n",
       "    </tr>\n",
       "    <tr>\n",
       "      <th>7</th>\n",
       "      <td>Jeans mezclilla</td>\n",
       "      <td>H&amp;M</td>\n",
       "      <td>449.00</td>\n",
       "    </tr>\n",
       "    <tr>\n",
       "      <th>8</th>\n",
       "      <td>Jeans mezclilla</td>\n",
       "      <td>Julio</td>\n",
       "      <td>664.09</td>\n",
       "    </tr>\n",
       "    <tr>\n",
       "      <th>9</th>\n",
       "      <td>Tacón</td>\n",
       "      <td>Calvin Klein</td>\n",
       "      <td>NaN</td>\n",
       "    </tr>\n",
       "    <tr>\n",
       "      <th>10</th>\n",
       "      <td>Tacón</td>\n",
       "      <td>H&amp;M</td>\n",
       "      <td>402.75</td>\n",
       "    </tr>\n",
       "    <tr>\n",
       "      <th>11</th>\n",
       "      <td>Tacón</td>\n",
       "      <td>Julio</td>\n",
       "      <td>844.26</td>\n",
       "    </tr>\n",
       "    <tr>\n",
       "      <th>12</th>\n",
       "      <td>Zapato</td>\n",
       "      <td>Calvin Klein</td>\n",
       "      <td>2272.60</td>\n",
       "    </tr>\n",
       "    <tr>\n",
       "      <th>13</th>\n",
       "      <td>Zapato</td>\n",
       "      <td>H&amp;M</td>\n",
       "      <td>276.50</td>\n",
       "    </tr>\n",
       "    <tr>\n",
       "      <th>14</th>\n",
       "      <td>Zapato</td>\n",
       "      <td>Julio</td>\n",
       "      <td>806.64</td>\n",
       "    </tr>\n",
       "  </tbody>\n",
       "</table>\n",
       "</div>"
      ],
      "text/plain": [
       "           Producto        Tienda  Promedio precio rebajado producto\n",
       "0             Blusa  Calvin Klein                             566.33\n",
       "1             Blusa           H&M                             204.00\n",
       "2             Blusa         Julio                             625.95\n",
       "3          Chamarra  Calvin Klein                            2367.75\n",
       "4          Chamarra           H&M                             307.33\n",
       "5          Chamarra         Julio                            1247.42\n",
       "6   Jeans mezclilla  Calvin Klein                             614.12\n",
       "7   Jeans mezclilla           H&M                             449.00\n",
       "8   Jeans mezclilla         Julio                             664.09\n",
       "9             Tacón  Calvin Klein                                NaN\n",
       "10            Tacón           H&M                             402.75\n",
       "11            Tacón         Julio                             844.26\n",
       "12           Zapato  Calvin Klein                            2272.60\n",
       "13           Zapato           H&M                             276.50\n",
       "14           Zapato         Julio                             806.64"
      ]
     },
     "execution_count": 9,
     "metadata": {},
     "output_type": "execute_result"
    }
   ],
   "source": [
    "#### --- Este código se debe ejecutar para obtener las consultas y las gráficas ---\n",
    "ps.sqldf(\"select Producto, Tienda, round(avg(Precio_rebajado), 2) as 'Promedio precio rebajado producto' \\\n",
    "          from df \\\n",
    "          group by Producto, Tienda\")"
   ]
  },
  {
   "cell_type": "markdown",
   "id": "ue6r0IS90tA2",
   "metadata": {
    "id": "ue6r0IS90tA2"
   },
   "source": [
    "4.4. Precio promedio de prendas por tienda (considerando prendas sin descuento)."
   ]
  },
  {
   "cell_type": "code",
   "execution_count": 10,
   "id": "ZWVpa0Wz0tA2",
   "metadata": {
    "id": "ZWVpa0Wz0tA2"
   },
   "outputs": [
    {
     "data": {
      "text/html": [
       "<div>\n",
       "<style scoped>\n",
       "    .dataframe tbody tr th:only-of-type {\n",
       "        vertical-align: middle;\n",
       "    }\n",
       "\n",
       "    .dataframe tbody tr th {\n",
       "        vertical-align: top;\n",
       "    }\n",
       "\n",
       "    .dataframe thead th {\n",
       "        text-align: right;\n",
       "    }\n",
       "</style>\n",
       "<table border=\"1\" class=\"dataframe\">\n",
       "  <thead>\n",
       "    <tr style=\"text-align: right;\">\n",
       "      <th></th>\n",
       "      <th>Tienda</th>\n",
       "      <th>Promedio precio original tienda</th>\n",
       "    </tr>\n",
       "  </thead>\n",
       "  <tbody>\n",
       "    <tr>\n",
       "      <th>0</th>\n",
       "      <td>Calvin Klein</td>\n",
       "      <td>3336.15</td>\n",
       "    </tr>\n",
       "    <tr>\n",
       "      <th>1</th>\n",
       "      <td>H&amp;M</td>\n",
       "      <td>634.83</td>\n",
       "    </tr>\n",
       "    <tr>\n",
       "      <th>2</th>\n",
       "      <td>Julio</td>\n",
       "      <td>1305.70</td>\n",
       "    </tr>\n",
       "  </tbody>\n",
       "</table>\n",
       "</div>"
      ],
      "text/plain": [
       "         Tienda  Promedio precio original tienda\n",
       "0  Calvin Klein                          3336.15\n",
       "1           H&M                           634.83\n",
       "2         Julio                          1305.70"
      ]
     },
     "execution_count": 10,
     "metadata": {},
     "output_type": "execute_result"
    }
   ],
   "source": [
    "#### --- Este código se debe ejecutar para obtener las consultas y las gráficas ---\n",
    "ps.sqldf(\"select Tienda, round(avg(Precio_original), 2) as 'Promedio precio original tienda' \\\n",
    "          from df \\\n",
    "          group by Tienda\")"
   ]
  },
  {
   "cell_type": "markdown",
   "id": "2fvCqRIE0tU8",
   "metadata": {
    "id": "2fvCqRIE0tU8"
   },
   "source": [
    "4.5. Precio de descuento promedio de prendas por tienda (considerando prendas en descuento)."
   ]
  },
  {
   "cell_type": "code",
   "execution_count": 11,
   "id": "4eQQKBnZ0tU8",
   "metadata": {
    "id": "4eQQKBnZ0tU8"
   },
   "outputs": [
    {
     "data": {
      "text/html": [
       "<div>\n",
       "<style scoped>\n",
       "    .dataframe tbody tr th:only-of-type {\n",
       "        vertical-align: middle;\n",
       "    }\n",
       "\n",
       "    .dataframe tbody tr th {\n",
       "        vertical-align: top;\n",
       "    }\n",
       "\n",
       "    .dataframe thead th {\n",
       "        text-align: right;\n",
       "    }\n",
       "</style>\n",
       "<table border=\"1\" class=\"dataframe\">\n",
       "  <thead>\n",
       "    <tr style=\"text-align: right;\">\n",
       "      <th></th>\n",
       "      <th>Tienda</th>\n",
       "      <th>Promedio precio descuento tienda</th>\n",
       "    </tr>\n",
       "  </thead>\n",
       "  <tbody>\n",
       "    <tr>\n",
       "      <th>0</th>\n",
       "      <td>Calvin Klein</td>\n",
       "      <td>1569.82</td>\n",
       "    </tr>\n",
       "    <tr>\n",
       "      <th>1</th>\n",
       "      <td>H&amp;M</td>\n",
       "      <td>339.91</td>\n",
       "    </tr>\n",
       "    <tr>\n",
       "      <th>2</th>\n",
       "      <td>Julio</td>\n",
       "      <td>719.40</td>\n",
       "    </tr>\n",
       "  </tbody>\n",
       "</table>\n",
       "</div>"
      ],
      "text/plain": [
       "         Tienda  Promedio precio descuento tienda\n",
       "0  Calvin Klein                           1569.82\n",
       "1           H&M                            339.91\n",
       "2         Julio                            719.40"
      ]
     },
     "execution_count": 11,
     "metadata": {},
     "output_type": "execute_result"
    }
   ],
   "source": [
    "#### --- Este código se debe ejecutar para obtener las consultas y las gráficas ---\n",
    "ps.sqldf(\"select Tienda, round(avg(Precio_rebajado), 2) as 'Promedio precio descuento tienda' \\\n",
    "          from df \\\n",
    "          group by Tienda\")"
   ]
  },
  {
   "cell_type": "markdown",
   "id": "Sssumsa40tjk",
   "metadata": {
    "id": "Sssumsa40tjk"
   },
   "source": [
    "4.6. Precio más alto por tienda y producto (considerando sólo precio original)."
   ]
  },
  {
   "cell_type": "code",
   "execution_count": 12,
   "id": "4gPjaRdC0tjk",
   "metadata": {
    "id": "4gPjaRdC0tjk"
   },
   "outputs": [
    {
     "data": {
      "text/html": [
       "<div>\n",
       "<style scoped>\n",
       "    .dataframe tbody tr th:only-of-type {\n",
       "        vertical-align: middle;\n",
       "    }\n",
       "\n",
       "    .dataframe tbody tr th {\n",
       "        vertical-align: top;\n",
       "    }\n",
       "\n",
       "    .dataframe thead th {\n",
       "        text-align: right;\n",
       "    }\n",
       "</style>\n",
       "<table border=\"1\" class=\"dataframe\">\n",
       "  <thead>\n",
       "    <tr style=\"text-align: right;\">\n",
       "      <th></th>\n",
       "      <th>Máximo precio original</th>\n",
       "      <th>Tienda</th>\n",
       "      <th>Producto</th>\n",
       "    </tr>\n",
       "  </thead>\n",
       "  <tbody>\n",
       "    <tr>\n",
       "      <th>0</th>\n",
       "      <td>1899.0</td>\n",
       "      <td>Calvin Klein</td>\n",
       "      <td>Blusa</td>\n",
       "    </tr>\n",
       "    <tr>\n",
       "      <th>1</th>\n",
       "      <td>549.0</td>\n",
       "      <td>H&amp;M</td>\n",
       "      <td>Blusa</td>\n",
       "    </tr>\n",
       "    <tr>\n",
       "      <th>2</th>\n",
       "      <td>1499.0</td>\n",
       "      <td>Julio</td>\n",
       "      <td>Blusa</td>\n",
       "    </tr>\n",
       "    <tr>\n",
       "      <th>3</th>\n",
       "      <td>7999.0</td>\n",
       "      <td>Calvin Klein</td>\n",
       "      <td>Chamarra</td>\n",
       "    </tr>\n",
       "    <tr>\n",
       "      <th>4</th>\n",
       "      <td>999.0</td>\n",
       "      <td>H&amp;M</td>\n",
       "      <td>Chamarra</td>\n",
       "    </tr>\n",
       "    <tr>\n",
       "      <th>5</th>\n",
       "      <td>2599.0</td>\n",
       "      <td>Julio</td>\n",
       "      <td>Chamarra</td>\n",
       "    </tr>\n",
       "    <tr>\n",
       "      <th>6</th>\n",
       "      <td>2240.0</td>\n",
       "      <td>Calvin Klein</td>\n",
       "      <td>Jeans mezclilla</td>\n",
       "    </tr>\n",
       "    <tr>\n",
       "      <th>7</th>\n",
       "      <td>799.0</td>\n",
       "      <td>H&amp;M</td>\n",
       "      <td>Jeans mezclilla</td>\n",
       "    </tr>\n",
       "    <tr>\n",
       "      <th>8</th>\n",
       "      <td>1399.0</td>\n",
       "      <td>Julio</td>\n",
       "      <td>Jeans mezclilla</td>\n",
       "    </tr>\n",
       "    <tr>\n",
       "      <th>9</th>\n",
       "      <td>4999.0</td>\n",
       "      <td>Calvin Klein</td>\n",
       "      <td>Tacón</td>\n",
       "    </tr>\n",
       "    <tr>\n",
       "      <th>10</th>\n",
       "      <td>1799.0</td>\n",
       "      <td>H&amp;M</td>\n",
       "      <td>Tacón</td>\n",
       "    </tr>\n",
       "    <tr>\n",
       "      <th>11</th>\n",
       "      <td>2299.0</td>\n",
       "      <td>Julio</td>\n",
       "      <td>Tacón</td>\n",
       "    </tr>\n",
       "    <tr>\n",
       "      <th>12</th>\n",
       "      <td>4040.0</td>\n",
       "      <td>Calvin Klein</td>\n",
       "      <td>Zapato</td>\n",
       "    </tr>\n",
       "    <tr>\n",
       "      <th>13</th>\n",
       "      <td>1999.0</td>\n",
       "      <td>H&amp;M</td>\n",
       "      <td>Zapato</td>\n",
       "    </tr>\n",
       "    <tr>\n",
       "      <th>14</th>\n",
       "      <td>1999.0</td>\n",
       "      <td>Julio</td>\n",
       "      <td>Zapato</td>\n",
       "    </tr>\n",
       "  </tbody>\n",
       "</table>\n",
       "</div>"
      ],
      "text/plain": [
       "    Máximo precio original        Tienda         Producto\n",
       "0                   1899.0  Calvin Klein            Blusa\n",
       "1                    549.0           H&M            Blusa\n",
       "2                   1499.0         Julio            Blusa\n",
       "3                   7999.0  Calvin Klein         Chamarra\n",
       "4                    999.0           H&M         Chamarra\n",
       "5                   2599.0         Julio         Chamarra\n",
       "6                   2240.0  Calvin Klein  Jeans mezclilla\n",
       "7                    799.0           H&M  Jeans mezclilla\n",
       "8                   1399.0         Julio  Jeans mezclilla\n",
       "9                   4999.0  Calvin Klein            Tacón\n",
       "10                  1799.0           H&M            Tacón\n",
       "11                  2299.0         Julio            Tacón\n",
       "12                  4040.0  Calvin Klein           Zapato\n",
       "13                  1999.0           H&M           Zapato\n",
       "14                  1999.0         Julio           Zapato"
      ]
     },
     "execution_count": 12,
     "metadata": {},
     "output_type": "execute_result"
    }
   ],
   "source": [
    "#### --- Este código se debe ejecutar para obtener las consultas y las gráficas ---\n",
    "ps.sqldf(\"select MAX(Precio_original) as 'Máximo precio original', Tienda, Producto \\\n",
    "          from df \\\n",
    "          group by Producto, Tienda\")"
   ]
  },
  {
   "cell_type": "markdown",
   "id": "vZt3nRH30tu3",
   "metadata": {
    "id": "vZt3nRH30tu3"
   },
   "source": [
    "4.7. Precio más bajo por tienda y producto (considerando sólo precio original)."
   ]
  },
  {
   "cell_type": "code",
   "execution_count": 13,
   "id": "_6EFTSfa0tu3",
   "metadata": {
    "id": "_6EFTSfa0tu3"
   },
   "outputs": [
    {
     "data": {
      "text/html": [
       "<div>\n",
       "<style scoped>\n",
       "    .dataframe tbody tr th:only-of-type {\n",
       "        vertical-align: middle;\n",
       "    }\n",
       "\n",
       "    .dataframe tbody tr th {\n",
       "        vertical-align: top;\n",
       "    }\n",
       "\n",
       "    .dataframe thead th {\n",
       "        text-align: right;\n",
       "    }\n",
       "</style>\n",
       "<table border=\"1\" class=\"dataframe\">\n",
       "  <thead>\n",
       "    <tr style=\"text-align: right;\">\n",
       "      <th></th>\n",
       "      <th>Mínimo precio original</th>\n",
       "      <th>Tienda</th>\n",
       "      <th>Producto</th>\n",
       "    </tr>\n",
       "  </thead>\n",
       "  <tbody>\n",
       "    <tr>\n",
       "      <th>0</th>\n",
       "      <td>1499.0</td>\n",
       "      <td>Calvin Klein</td>\n",
       "      <td>Blusa</td>\n",
       "    </tr>\n",
       "    <tr>\n",
       "      <th>1</th>\n",
       "      <td>249.0</td>\n",
       "      <td>H&amp;M</td>\n",
       "      <td>Blusa</td>\n",
       "    </tr>\n",
       "    <tr>\n",
       "      <th>2</th>\n",
       "      <td>499.5</td>\n",
       "      <td>Julio</td>\n",
       "      <td>Blusa</td>\n",
       "    </tr>\n",
       "    <tr>\n",
       "      <th>3</th>\n",
       "      <td>1999.0</td>\n",
       "      <td>Calvin Klein</td>\n",
       "      <td>Chamarra</td>\n",
       "    </tr>\n",
       "    <tr>\n",
       "      <th>4</th>\n",
       "      <td>249.0</td>\n",
       "      <td>H&amp;M</td>\n",
       "      <td>Chamarra</td>\n",
       "    </tr>\n",
       "    <tr>\n",
       "      <th>5</th>\n",
       "      <td>1499.0</td>\n",
       "      <td>Julio</td>\n",
       "      <td>Chamarra</td>\n",
       "    </tr>\n",
       "    <tr>\n",
       "      <th>6</th>\n",
       "      <td>1299.0</td>\n",
       "      <td>Calvin Klein</td>\n",
       "      <td>Jeans mezclilla</td>\n",
       "    </tr>\n",
       "    <tr>\n",
       "      <th>7</th>\n",
       "      <td>329.0</td>\n",
       "      <td>H&amp;M</td>\n",
       "      <td>Jeans mezclilla</td>\n",
       "    </tr>\n",
       "    <tr>\n",
       "      <th>8</th>\n",
       "      <td>799.0</td>\n",
       "      <td>Julio</td>\n",
       "      <td>Jeans mezclilla</td>\n",
       "    </tr>\n",
       "    <tr>\n",
       "      <th>9</th>\n",
       "      <td>2299.0</td>\n",
       "      <td>Calvin Klein</td>\n",
       "      <td>Tacón</td>\n",
       "    </tr>\n",
       "    <tr>\n",
       "      <th>10</th>\n",
       "      <td>449.0</td>\n",
       "      <td>H&amp;M</td>\n",
       "      <td>Tacón</td>\n",
       "    </tr>\n",
       "    <tr>\n",
       "      <th>11</th>\n",
       "      <td>1399.0</td>\n",
       "      <td>Julio</td>\n",
       "      <td>Tacón</td>\n",
       "    </tr>\n",
       "    <tr>\n",
       "      <th>12</th>\n",
       "      <td>2299.0</td>\n",
       "      <td>Calvin Klein</td>\n",
       "      <td>Zapato</td>\n",
       "    </tr>\n",
       "    <tr>\n",
       "      <th>13</th>\n",
       "      <td>249.0</td>\n",
       "      <td>H&amp;M</td>\n",
       "      <td>Zapato</td>\n",
       "    </tr>\n",
       "    <tr>\n",
       "      <th>14</th>\n",
       "      <td>1399.0</td>\n",
       "      <td>Julio</td>\n",
       "      <td>Zapato</td>\n",
       "    </tr>\n",
       "  </tbody>\n",
       "</table>\n",
       "</div>"
      ],
      "text/plain": [
       "    Mínimo precio original        Tienda         Producto\n",
       "0                   1499.0  Calvin Klein            Blusa\n",
       "1                    249.0           H&M            Blusa\n",
       "2                    499.5         Julio            Blusa\n",
       "3                   1999.0  Calvin Klein         Chamarra\n",
       "4                    249.0           H&M         Chamarra\n",
       "5                   1499.0         Julio         Chamarra\n",
       "6                   1299.0  Calvin Klein  Jeans mezclilla\n",
       "7                    329.0           H&M  Jeans mezclilla\n",
       "8                    799.0         Julio  Jeans mezclilla\n",
       "9                   2299.0  Calvin Klein            Tacón\n",
       "10                   449.0           H&M            Tacón\n",
       "11                  1399.0         Julio            Tacón\n",
       "12                  2299.0  Calvin Klein           Zapato\n",
       "13                   249.0           H&M           Zapato\n",
       "14                  1399.0         Julio           Zapato"
      ]
     },
     "execution_count": 13,
     "metadata": {},
     "output_type": "execute_result"
    }
   ],
   "source": [
    "#### --- Este código se debe ejecutar para obtener las consultas y las gráficas ---\n",
    "ps.sqldf(\"select MIN(Precio_original) as 'Mínimo precio original', Tienda, Producto \\\n",
    "          from df \\\n",
    "          group by Producto, Tienda\")"
   ]
  },
  {
   "cell_type": "markdown",
   "id": "L4m2ou2r0t6h",
   "metadata": {
    "id": "L4m2ou2r0t6h"
   },
   "source": [
    "4.8. Precio más alto por producto en cada tienda (considerando sólo precio de descuento)."
   ]
  },
  {
   "cell_type": "code",
   "execution_count": 14,
   "id": "wZZwUbvS0t6i",
   "metadata": {
    "id": "wZZwUbvS0t6i"
   },
   "outputs": [
    {
     "data": {
      "text/html": [
       "<div>\n",
       "<style scoped>\n",
       "    .dataframe tbody tr th:only-of-type {\n",
       "        vertical-align: middle;\n",
       "    }\n",
       "\n",
       "    .dataframe tbody tr th {\n",
       "        vertical-align: top;\n",
       "    }\n",
       "\n",
       "    .dataframe thead th {\n",
       "        text-align: right;\n",
       "    }\n",
       "</style>\n",
       "<table border=\"1\" class=\"dataframe\">\n",
       "  <thead>\n",
       "    <tr style=\"text-align: right;\">\n",
       "      <th></th>\n",
       "      <th>Máximo precio descuento</th>\n",
       "      <th>Tienda</th>\n",
       "      <th>Producto</th>\n",
       "    </tr>\n",
       "  </thead>\n",
       "  <tbody>\n",
       "    <tr>\n",
       "      <th>0</th>\n",
       "      <td>645.66</td>\n",
       "      <td>Calvin Klein</td>\n",
       "      <td>Blusa</td>\n",
       "    </tr>\n",
       "    <tr>\n",
       "      <th>1</th>\n",
       "      <td>229.00</td>\n",
       "      <td>H&amp;M</td>\n",
       "      <td>Blusa</td>\n",
       "    </tr>\n",
       "    <tr>\n",
       "      <th>2</th>\n",
       "      <td>839.40</td>\n",
       "      <td>Julio</td>\n",
       "      <td>Blusa</td>\n",
       "    </tr>\n",
       "    <tr>\n",
       "      <th>3</th>\n",
       "      <td>3271.90</td>\n",
       "      <td>Calvin Klein</td>\n",
       "      <td>Chamarra</td>\n",
       "    </tr>\n",
       "    <tr>\n",
       "      <th>4</th>\n",
       "      <td>449.00</td>\n",
       "      <td>H&amp;M</td>\n",
       "      <td>Chamarra</td>\n",
       "    </tr>\n",
       "    <tr>\n",
       "      <th>5</th>\n",
       "      <td>1559.40</td>\n",
       "      <td>Julio</td>\n",
       "      <td>Chamarra</td>\n",
       "    </tr>\n",
       "    <tr>\n",
       "      <th>6</th>\n",
       "      <td>772.90</td>\n",
       "      <td>Calvin Klein</td>\n",
       "      <td>Jeans mezclilla</td>\n",
       "    </tr>\n",
       "    <tr>\n",
       "      <th>7</th>\n",
       "      <td>449.00</td>\n",
       "      <td>H&amp;M</td>\n",
       "      <td>Jeans mezclilla</td>\n",
       "    </tr>\n",
       "    <tr>\n",
       "      <th>8</th>\n",
       "      <td>779.40</td>\n",
       "      <td>Julio</td>\n",
       "      <td>Jeans mezclilla</td>\n",
       "    </tr>\n",
       "    <tr>\n",
       "      <th>9</th>\n",
       "      <td>NaN</td>\n",
       "      <td>Calvin Klein</td>\n",
       "      <td>Tacón</td>\n",
       "    </tr>\n",
       "    <tr>\n",
       "      <th>10</th>\n",
       "      <td>549.00</td>\n",
       "      <td>H&amp;M</td>\n",
       "      <td>Tacón</td>\n",
       "    </tr>\n",
       "    <tr>\n",
       "      <th>11</th>\n",
       "      <td>1139.40</td>\n",
       "      <td>Julio</td>\n",
       "      <td>Tacón</td>\n",
       "    </tr>\n",
       "    <tr>\n",
       "      <th>12</th>\n",
       "      <td>2403.80</td>\n",
       "      <td>Calvin Klein</td>\n",
       "      <td>Zapato</td>\n",
       "    </tr>\n",
       "    <tr>\n",
       "      <th>13</th>\n",
       "      <td>429.00</td>\n",
       "      <td>H&amp;M</td>\n",
       "      <td>Zapato</td>\n",
       "    </tr>\n",
       "    <tr>\n",
       "      <th>14</th>\n",
       "      <td>949.50</td>\n",
       "      <td>Julio</td>\n",
       "      <td>Zapato</td>\n",
       "    </tr>\n",
       "  </tbody>\n",
       "</table>\n",
       "</div>"
      ],
      "text/plain": [
       "    Máximo precio descuento        Tienda         Producto\n",
       "0                    645.66  Calvin Klein            Blusa\n",
       "1                    229.00           H&M            Blusa\n",
       "2                    839.40         Julio            Blusa\n",
       "3                   3271.90  Calvin Klein         Chamarra\n",
       "4                    449.00           H&M         Chamarra\n",
       "5                   1559.40         Julio         Chamarra\n",
       "6                    772.90  Calvin Klein  Jeans mezclilla\n",
       "7                    449.00           H&M  Jeans mezclilla\n",
       "8                    779.40         Julio  Jeans mezclilla\n",
       "9                       NaN  Calvin Klein            Tacón\n",
       "10                   549.00           H&M            Tacón\n",
       "11                  1139.40         Julio            Tacón\n",
       "12                  2403.80  Calvin Klein           Zapato\n",
       "13                   429.00           H&M           Zapato\n",
       "14                   949.50         Julio           Zapato"
      ]
     },
     "execution_count": 14,
     "metadata": {},
     "output_type": "execute_result"
    }
   ],
   "source": [
    "#### --- Este código se debe ejecutar para obtener las consultas y las gráficas ---\n",
    "ps.sqldf(\"select MAX(Precio_rebajado) as 'Máximo precio descuento', Tienda, Producto \\\n",
    "          from df \\\n",
    "          group by Producto, Tienda\")"
   ]
  },
  {
   "cell_type": "markdown",
   "id": "mpHZu2nL0uFq",
   "metadata": {
    "id": "mpHZu2nL0uFq"
   },
   "source": [
    "4.9. Precio más bajo por producto en cada tienda (considerando sólo precio de descuento)."
   ]
  },
  {
   "cell_type": "code",
   "execution_count": 15,
   "id": "5CehDpwM0uFq",
   "metadata": {
    "id": "5CehDpwM0uFq"
   },
   "outputs": [
    {
     "data": {
      "text/html": [
       "<div>\n",
       "<style scoped>\n",
       "    .dataframe tbody tr th:only-of-type {\n",
       "        vertical-align: middle;\n",
       "    }\n",
       "\n",
       "    .dataframe tbody tr th {\n",
       "        vertical-align: top;\n",
       "    }\n",
       "\n",
       "    .dataframe thead th {\n",
       "        text-align: right;\n",
       "    }\n",
       "</style>\n",
       "<table border=\"1\" class=\"dataframe\">\n",
       "  <thead>\n",
       "    <tr style=\"text-align: right;\">\n",
       "      <th></th>\n",
       "      <th>Mínimo precio descuento</th>\n",
       "      <th>Tienda</th>\n",
       "      <th>Producto</th>\n",
       "    </tr>\n",
       "  </thead>\n",
       "  <tbody>\n",
       "    <tr>\n",
       "      <th>0</th>\n",
       "      <td>509.66</td>\n",
       "      <td>Calvin Klein</td>\n",
       "      <td>Blusa</td>\n",
       "    </tr>\n",
       "    <tr>\n",
       "      <th>1</th>\n",
       "      <td>179.00</td>\n",
       "      <td>H&amp;M</td>\n",
       "      <td>Blusa</td>\n",
       "    </tr>\n",
       "    <tr>\n",
       "      <th>2</th>\n",
       "      <td>349.50</td>\n",
       "      <td>Julio</td>\n",
       "      <td>Blusa</td>\n",
       "    </tr>\n",
       "    <tr>\n",
       "      <th>3</th>\n",
       "      <td>679.66</td>\n",
       "      <td>Calvin Klein</td>\n",
       "      <td>Chamarra</td>\n",
       "    </tr>\n",
       "    <tr>\n",
       "      <th>4</th>\n",
       "      <td>199.00</td>\n",
       "      <td>H&amp;M</td>\n",
       "      <td>Chamarra</td>\n",
       "    </tr>\n",
       "    <tr>\n",
       "      <th>5</th>\n",
       "      <td>899.40</td>\n",
       "      <td>Julio</td>\n",
       "      <td>Chamarra</td>\n",
       "    </tr>\n",
       "    <tr>\n",
       "      <th>6</th>\n",
       "      <td>441.66</td>\n",
       "      <td>Calvin Klein</td>\n",
       "      <td>Jeans mezclilla</td>\n",
       "    </tr>\n",
       "    <tr>\n",
       "      <th>7</th>\n",
       "      <td>449.00</td>\n",
       "      <td>H&amp;M</td>\n",
       "      <td>Jeans mezclilla</td>\n",
       "    </tr>\n",
       "    <tr>\n",
       "      <th>8</th>\n",
       "      <td>539.40</td>\n",
       "      <td>Julio</td>\n",
       "      <td>Jeans mezclilla</td>\n",
       "    </tr>\n",
       "    <tr>\n",
       "      <th>9</th>\n",
       "      <td>NaN</td>\n",
       "      <td>Calvin Klein</td>\n",
       "      <td>Tacón</td>\n",
       "    </tr>\n",
       "    <tr>\n",
       "      <th>10</th>\n",
       "      <td>299.00</td>\n",
       "      <td>H&amp;M</td>\n",
       "      <td>Tacón</td>\n",
       "    </tr>\n",
       "    <tr>\n",
       "      <th>11</th>\n",
       "      <td>699.50</td>\n",
       "      <td>Julio</td>\n",
       "      <td>Tacón</td>\n",
       "    </tr>\n",
       "    <tr>\n",
       "      <th>12</th>\n",
       "      <td>2141.40</td>\n",
       "      <td>Calvin Klein</td>\n",
       "      <td>Zapato</td>\n",
       "    </tr>\n",
       "    <tr>\n",
       "      <th>13</th>\n",
       "      <td>129.00</td>\n",
       "      <td>H&amp;M</td>\n",
       "      <td>Zapato</td>\n",
       "    </tr>\n",
       "    <tr>\n",
       "      <th>14</th>\n",
       "      <td>699.50</td>\n",
       "      <td>Julio</td>\n",
       "      <td>Zapato</td>\n",
       "    </tr>\n",
       "  </tbody>\n",
       "</table>\n",
       "</div>"
      ],
      "text/plain": [
       "    Mínimo precio descuento        Tienda         Producto\n",
       "0                    509.66  Calvin Klein            Blusa\n",
       "1                    179.00           H&M            Blusa\n",
       "2                    349.50         Julio            Blusa\n",
       "3                    679.66  Calvin Klein         Chamarra\n",
       "4                    199.00           H&M         Chamarra\n",
       "5                    899.40         Julio         Chamarra\n",
       "6                    441.66  Calvin Klein  Jeans mezclilla\n",
       "7                    449.00           H&M  Jeans mezclilla\n",
       "8                    539.40         Julio  Jeans mezclilla\n",
       "9                       NaN  Calvin Klein            Tacón\n",
       "10                   299.00           H&M            Tacón\n",
       "11                   699.50         Julio            Tacón\n",
       "12                  2141.40  Calvin Klein           Zapato\n",
       "13                   129.00           H&M           Zapato\n",
       "14                   699.50         Julio           Zapato"
      ]
     },
     "execution_count": 15,
     "metadata": {},
     "output_type": "execute_result"
    }
   ],
   "source": [
    "#### --- Este código se debe ejecutar para obtener las consultas y las gráficas ---\n",
    "ps.sqldf(\"select MIN(Precio_rebajado) as 'Mínimo precio descuento', Tienda, Producto \\\n",
    "          from df \\\n",
    "          group by Producto, Tienda\")"
   ]
  },
  {
   "cell_type": "markdown",
   "id": "8gJXRbTh0Aud",
   "metadata": {
    "id": "8gJXRbTh0Aud"
   },
   "source": [
    "## 5. Gráficos"
   ]
  },
  {
   "cell_type": "markdown",
   "id": "621161d1",
   "metadata": {},
   "source": [
    "Las siguientes líneas de código son para poder realizar de forma correcta las gráficas."
   ]
  },
  {
   "cell_type": "code",
   "execution_count": 16,
   "id": "4cc84cfc",
   "metadata": {},
   "outputs": [],
   "source": [
    "#### --- Este código se debe ejecutar para obtener las consultas y las gráficas ---\n",
    "## Se hacen las consultas y se guardan en variables que a continuación se utilizarán\n",
    "df_hm = ps.sqldf(\"select Tienda, Producto, Precio_original, Precio_rebajado \\\n",
    "          from df \\\n",
    "          where Tienda = 'H&M'\")\n",
    "\n",
    "df_ck = ps.sqldf(\"select Tienda, Producto, Precio_original, Precio_rebajado \\\n",
    "          from df \\\n",
    "          where Tienda = 'Calvin Klein'\")\n",
    "\n",
    "df_julio = ps.sqldf(\"select Tienda, Producto, Precio_original, Precio_rebajado \\\n",
    "          from df \\\n",
    "          where Tienda = 'Julio'\")\n",
    "\n",
    "\n",
    "## Las siguientes líneas son sólo si se usan los 5 Web Scrapers\n",
    "# df_zara = ps.sqldf(\"select Tienda, Producto, Precio_original, Precio_rebajado \\\n",
    "#           from df \\\n",
    "#           where Tienda = 'Zara'\")\n",
    "\n",
    "# df_f21 = ps.sqldf(\"select Tienda, Producto, Precio_original, Precio_rebajado \\\n",
    "#           from df \\\n",
    "#           where Tienda = 'Forever 21'\")\n"
   ]
  },
  {
   "cell_type": "markdown",
   "id": "gj5Hddix0NXF",
   "metadata": {
    "id": "gj5Hddix0NXF"
   },
   "source": [
    "5.1. Comparación de precios y cantidad de productos que ofrece cada tienda, para estas gráficas se considera sólo el precio original."
   ]
  },
  {
   "cell_type": "code",
   "execution_count": 17,
   "id": "t8K1wgdM0KAJ",
   "metadata": {
    "id": "t8K1wgdM0KAJ"
   },
   "outputs": [
    {
     "data": {
      "image/png": "[encoded data removed]",
      "text/plain": [
       "<Figure size 432x288 with 1 Axes>"
      ]
     },
     "metadata": {
      "needs_background": "light"
     },
     "output_type": "display_data"
    },
    {
     "data": {
      "image/png": "[encoded data removed]",
      "text/plain": [
       "<Figure size 432x288 with 1 Axes>"
      ]
     },
     "metadata": {
      "needs_background": "light"
     },
     "output_type": "display_data"
    },
    {
     "data": {
      "image/png": "[encoded data removed]",
      "text/plain": [
       "<Figure size 432x288 with 1 Axes>"
      ]
     },
     "metadata": {
      "needs_background": "light"
     },
     "output_type": "display_data"
    },
    {
     "data": {
      "image/png": "[encoded data removed]",
      "text/plain": [
       "<Figure size 432x288 with 1 Axes>"
      ]
     },
     "metadata": {
      "needs_background": "light"
     },
     "output_type": "display_data"
    },
    {
     "data": {
      "image/png": "[encoded data removed]",
      "text/plain": [
       "<Figure size 432x288 with 1 Axes>"
      ]
     },
     "metadata": {
      "needs_background": "light"
     },
     "output_type": "display_data"
    }
   ],
   "source": [
    "#### --- Este código se debe ejecutar para obtener las consultas y las gráficas ---\n",
    "for i in ['Blusa', 'Jeans mezclilla', 'Chamarra', 'Zapato', 'Tacón']:\n",
    "    fig, ax = plt.subplots()\n",
    "    plt.hist(df_hm[df_hm['Producto']==i]['Precio_original'], color = 'red', ec = 'black', label = 'H&M')\n",
    "    plt.hist(df_ck[df_ck['Producto']==i]['Precio_original'], color = 'grey', ec = 'black', label = 'Calvin Klein')\n",
    "    plt.hist(df_julio[df_julio['Producto']==i]['Precio_original'], color ='orange', ec = 'black', label = 'Julio')\n",
    "    \n",
    "    ## En caso de que considere Zara y Forever 21\n",
    "    #plt.hist(df_zara[df_zara['Producto']==i]['Precio_original'], color='green', ec='black', label='Zara')\n",
    "    #En caso de que considere Forever 21\n",
    "    #plt.hist(df_f21[df_f21['Producto']==i]['Precio_original'], color='purple', ec='yellow', label='Forever 21')\n",
    "    \n",
    "    plt.title('Comparación de precios y cantidad de ' + str(i)+ ' por tienda')\n",
    "    plt.ylabel('Cantidad de ' + str(i))\n",
    "    plt.xlabel('Precios')\n",
    "    plt.legend(loc = 'upper right')\n",
    "\n",
    "    plt.show()\n"
   ]
  },
  {
   "cell_type": "markdown",
   "id": "cBgSJmdq0Vwz",
   "metadata": {
    "id": "cBgSJmdq0Vwz"
   },
   "source": [
    "5.2. Comparación de precios y cantidad de productos que ofrece cada tienda, para estas gráficas se considera sólo el precio promocional de los productos."
   ]
  },
  {
   "cell_type": "code",
   "execution_count": 18,
   "id": "e6P-TWP10VIr",
   "metadata": {
    "id": "e6P-TWP10VIr"
   },
   "outputs": [
    {
     "data": {
      "image/png": "[encoded data removed]",
      "text/plain": [
       "<Figure size 432x288 with 1 Axes>"
      ]
     },
     "metadata": {
      "needs_background": "light"
     },
     "output_type": "display_data"
    },
    {
     "data": {
      "image/png": "[encoded data removed]",
      "text/plain": [
       "<Figure size 432x288 with 1 Axes>"
      ]
     },
     "metadata": {
      "needs_background": "light"
     },
     "output_type": "display_data"
    },
    {
     "data": {
      "image/png": "[encoded data removed]",
      "text/plain": [
       "<Figure size 432x288 with 1 Axes>"
      ]
     },
     "metadata": {
      "needs_background": "light"
     },
     "output_type": "display_data"
    },
    {
     "data": {
      "image/png": "[encoded data removed]",
      "text/plain": [
       "<Figure size 432x288 with 1 Axes>"
      ]
     },
     "metadata": {
      "needs_background": "light"
     },
     "output_type": "display_data"
    },
    {
     "data": {
      "image/png": "[encoded data removed]",
      "text/plain": [
       "<Figure size 432x288 with 1 Axes>"
      ]
     },
     "metadata": {
      "needs_background": "light"
     },
     "output_type": "display_data"
    }
   ],
   "source": [
    "#### --- Este código se debe ejecutar para obtener las consultas y las gráficas ---\n",
    "for i in ['Blusa', 'Jeans mezclilla', 'Chamarra', 'Zapato']:\n",
    "    fig, ax = plt.subplots()\n",
    "    plt.hist(df_hm[df_hm['Producto']==i]['Precio_rebajado'], color = 'red', ec='black', label = 'H&M')\n",
    "    plt.hist(df_ck[df_ck['Producto']==i]['Precio_rebajado'], color = 'grey', ec='black', label = 'Calvin Klein')\n",
    "    plt.hist(df_julio[df_julio['Producto']==i]['Precio_rebajado'], color = 'orange', ec='black', label = 'Julio')\n",
    "    plt.title('Comparación de precios y cantidad de '+ str(i) +' en rebaja por tienda')\n",
    "    plt.ylabel('Cantidad de ' + str(i) + '')\n",
    "    plt.xlabel('Precios')\n",
    "    plt.legend(loc='upper right')\n",
    "    \n",
    "    plt.show()\n",
    "    \n",
    "for i in ['Tacón']:\n",
    "    fig, ax = plt.subplots()\n",
    "    plt.hist(df_hm[df_hm['Producto']==i]['Precio_rebajado'], color = 'red', ec='black', label = 'H&M')    \n",
    "    plt.hist(df_julio[df_julio['Producto']==i]['Precio_rebajado'], color = 'cyan', ec='black', label = 'Julio')\n",
    "    plt.title('Comparación de precios y cantidad de '+ str(i) +' en rebaja por tienda')\n",
    "    plt.ylabel('Cantidad de ' + str(i) + '')\n",
    "    plt.xlabel('Precios')\n",
    "    plt.legend(loc='upper right')\n",
    "    \n",
    "    plt.show()\n",
    "    "
   ]
  },
  {
   "cell_type": "markdown",
   "id": "In9y_oPX0U47",
   "metadata": {
    "id": "In9y_oPX0U47"
   },
   "source": [
    "5.3. Cantidad de prendas por producto considerando las 3 tiendas y su precio original."
   ]
  },
  {
   "cell_type": "code",
   "execution_count": 19,
   "id": "qJKtRWlP0WjU",
   "metadata": {
    "id": "qJKtRWlP0WjU"
   },
   "outputs": [
    {
     "data": {
      "image/png": "[encoded data removed]",
      "text/plain": [
       "<Figure size 432x288 with 1 Axes>"
      ]
     },
     "metadata": {
      "needs_background": "light"
     },
     "output_type": "display_data"
    },
    {
     "data": {
      "image/png": "[encoded data removed]",
      "text/plain": [
       "<Figure size 432x288 with 1 Axes>"
      ]
     },
     "metadata": {
      "needs_background": "light"
     },
     "output_type": "display_data"
    },
    {
     "data": {
      "image/png": "[encoded data removed]",
      "text/plain": [
       "<Figure size 432x288 with 1 Axes>"
      ]
     },
     "metadata": {
      "needs_background": "light"
     },
     "output_type": "display_data"
    },
    {
     "data": {
      "image/png": "[encoded data removed]",
      "text/plain": [
       "<Figure size 432x288 with 1 Axes>"
      ]
     },
     "metadata": {
      "needs_background": "light"
     },
     "output_type": "display_data"
    },
    {
     "data": {
      "image/png": "[encoded data removed]",
      "text/plain": [
       "<Figure size 432x288 with 1 Axes>"
      ]
     },
     "metadata": {
      "needs_background": "light"
     },
     "output_type": "display_data"
    }
   ],
   "source": [
    "#### --- Este código se debe ejecutar para obtener las consultas y las gráficas ---\n",
    "for i in ['Blusa', 'Jeans mezclilla', 'Chamarra', 'Zapato', 'Tacón']:\n",
    "    fig, ax = plt.subplots()\n",
    "    plt.hist(df[df['Producto']==i]['Precio_original'], color='purple', ec='black')\n",
    "    plt.title('Cantidad de ' + str(i) + ' por precio en general')\n",
    "    plt.ylabel('Cantidad de ' + str(i) + '')\n",
    "    plt.xlabel('Precios')\n",
    "\n",
    "    plt.show()\n"
   ]
  },
  {
   "cell_type": "markdown",
   "id": "yAaXxoRb0Tq0",
   "metadata": {
    "id": "yAaXxoRb0Tq0"
   },
   "source": [
    "5.4. Cantidad de prendas por producto considerando las 3 tiendas y su precio de descuento."
   ]
  },
  {
   "cell_type": "code",
   "execution_count": 20,
   "id": "WRsZCLU40TQG",
   "metadata": {
    "id": "WRsZCLU40TQG"
   },
   "outputs": [
    {
     "data": {
      "image/png": "[encoded data removed]",
      "text/plain": [
       "<Figure size 432x288 with 1 Axes>"
      ]
     },
     "metadata": {
      "needs_background": "light"
     },
     "output_type": "display_data"
    },
    {
     "data": {
      "image/png": "[encoded data removed]",
      "text/plain": [
       "<Figure size 432x288 with 1 Axes>"
      ]
     },
     "metadata": {
      "needs_background": "light"
     },
     "output_type": "display_data"
    },
    {
     "data": {
      "image/png": "[encoded data removed]",
      "text/plain": [
       "<Figure size 432x288 with 1 Axes>"
      ]
     },
     "metadata": {
      "needs_background": "light"
     },
     "output_type": "display_data"
    },
    {
     "data": {
      "image/png": "[encoded data removed]",
      "text/plain": [
       "<Figure size 432x288 with 1 Axes>"
      ]
     },
     "metadata": {
      "needs_background": "light"
     },
     "output_type": "display_data"
    },
    {
     "data": {
      "image/png": "[encoded data removed]",
      "text/plain": [
       "<Figure size 432x288 with 1 Axes>"
      ]
     },
     "metadata": {
      "needs_background": "light"
     },
     "output_type": "display_data"
    }
   ],
   "source": [
    "#### --- Este código se debe ejecutar para obtener las consultas y las gráficas ---\n",
    "for i in ['Blusa', 'Jeans mezclilla', 'Chamarra', 'Zapato', 'Tacón']:\n",
    "    fig, ax = plt.subplots()\n",
    "    plt.hist(df[df['Producto']==i]['Precio_rebajado'], color='cyan', ec='black')\n",
    "    plt.title('Cantidad de ' + str(i) + ' en general con precio de descuento')\n",
    "    plt.ylabel('Cantidad de ' + str(i) + '')\n",
    "    plt.xlabel('Precios')\n",
    "\n",
    "    plt.show()\n"
   ]
  }
 ],
 "metadata": {
  "colab": {
   "name": "Web Scraper proyecto final final.ipynb",
   "provenance": []
  },
  "kernelspec": {
   "display_name": "Python 3",
   "language": "python",
   "name": "python3"
  },
  "language_info": {
   "codemirror_mode": {
    "name": "ipython",
    "version": 3
   },
   "file_extension": ".py",
   "mimetype": "text/x-python",
   "name": "python",
   "nbconvert_exporter": "python",
   "pygments_lexer": "ipython3",
   "version": "3.8.8"
  }
 },
 "nbformat": 4,
 "nbformat_minor": 5
}
